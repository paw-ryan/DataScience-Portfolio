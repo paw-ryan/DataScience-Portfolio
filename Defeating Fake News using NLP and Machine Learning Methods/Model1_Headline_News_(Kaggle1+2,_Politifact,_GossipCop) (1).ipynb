{
  "nbformat": 4,
  "nbformat_minor": 0,
  "metadata": {
    "colab": {
      "name": "Model1 - Headline News (Kaggle1+2, Politifact, GossipCop).ipynb",
      "provenance": [],
      "collapsed_sections": []
    },
    "kernelspec": {
      "display_name": "Python 3",
      "name": "python3"
    },
    "language_info": {
      "name": "python"
    }
  },
  "cells": [
    {
      "cell_type": "code",
      "metadata": {
        "id": "r2XD39XMVu-j"
      },
      "source": [
        "import pandas as pd"
      ],
      "execution_count": null,
      "outputs": []
    },
    {
      "cell_type": "code",
      "metadata": {
        "id": "7efIhZ66Js2i"
      },
      "source": [
        "#URLs from github\n",
        "url1 = 'https://raw.githubusercontent.com/KaiDMML/FakeNewsNet/master/dataset/politifact_fake.csv'\n",
        "url2 = 'https://raw.githubusercontent.com/KaiDMML/FakeNewsNet/master/dataset/politifact_real.csv'\n",
        "url3 = 'https://raw.githubusercontent.com/KaiDMML/FakeNewsNet/master/dataset/gossipcop_fake.csv'\n",
        "url4 = 'https://raw.githubusercontent.com/KaiDMML/FakeNewsNet/master/dataset/gossipcop_real.csv'"
      ],
      "execution_count": null,
      "outputs": []
    },
    {
      "cell_type": "code",
      "metadata": {
        "id": "rJNhUJoTWclb"
      },
      "source": [
        "#Import Politifact+Gossipcop\n",
        "df_polifake = pd.read_csv(url1)\n",
        "df_polifact = pd.read_csv(url2)\n",
        "df_gcfake = pd.read_csv(url3)\n",
        "df_gcfact = pd.read_csv(url4)"
      ],
      "execution_count": null,
      "outputs": []
    },
    {
      "cell_type": "code",
      "metadata": {
        "id": "2GsJQVnaRD3T"
      },
      "source": [
        "#Install Kaggle API. Makes it easier to import data directly from Kaggle, instead of importing from computer\n",
        "! mkdir ~/.kaggle"
      ],
      "execution_count": null,
      "outputs": []
    },
    {
      "cell_type": "code",
      "metadata": {
        "colab": {
          "base_uri": "https://localhost:8080/"
        },
        "id": "20sxXw8qQ_5U",
        "outputId": "96485788-bb46-4900-e7cd-1035c030629d"
      },
      "source": [
        "#Install Kaggle API.\n",
        "! pip install kaggle"
      ],
      "execution_count": null,
      "outputs": [
        {
          "output_type": "stream",
          "name": "stdout",
          "text": [
            "Requirement already satisfied: kaggle in /usr/local/lib/python3.7/dist-packages (1.5.12)\n",
            "Requirement already satisfied: certifi in /usr/local/lib/python3.7/dist-packages (from kaggle) (2021.5.30)\n",
            "Requirement already satisfied: six>=1.10 in /usr/local/lib/python3.7/dist-packages (from kaggle) (1.15.0)\n",
            "Requirement already satisfied: urllib3 in /usr/local/lib/python3.7/dist-packages (from kaggle) (1.24.3)\n",
            "Requirement already satisfied: python-slugify in /usr/local/lib/python3.7/dist-packages (from kaggle) (5.0.2)\n",
            "Requirement already satisfied: tqdm in /usr/local/lib/python3.7/dist-packages (from kaggle) (4.62.3)\n",
            "Requirement already satisfied: requests in /usr/local/lib/python3.7/dist-packages (from kaggle) (2.23.0)\n",
            "Requirement already satisfied: python-dateutil in /usr/local/lib/python3.7/dist-packages (from kaggle) (2.8.2)\n",
            "Requirement already satisfied: text-unidecode>=1.3 in /usr/local/lib/python3.7/dist-packages (from python-slugify->kaggle) (1.3)\n",
            "Requirement already satisfied: chardet<4,>=3.0.2 in /usr/local/lib/python3.7/dist-packages (from requests->kaggle) (3.0.4)\n",
            "Requirement already satisfied: idna<3,>=2.5 in /usr/local/lib/python3.7/dist-packages (from requests->kaggle) (2.10)\n"
          ]
        }
      ]
    },
    {
      "cell_type": "code",
      "metadata": {
        "id": "qHKkfv53RH94"
      },
      "source": [
        "#Install Kaggle API. Need kaggle.json file. Instructions: https://www.kaggle.com/general/74235\n",
        "! cp kaggle.json ~/.kaggle/"
      ],
      "execution_count": null,
      "outputs": []
    },
    {
      "cell_type": "code",
      "metadata": {
        "id": "G_95mPVARKi9"
      },
      "source": [
        "#Install Kaggle API.\n",
        "! chmod 600 ~/.kaggle/kaggle.json"
      ],
      "execution_count": null,
      "outputs": []
    },
    {
      "cell_type": "code",
      "metadata": {
        "colab": {
          "base_uri": "https://localhost:8080/"
        },
        "id": "I_FijbNeReif",
        "outputId": "87238fe7-221e-4f97-cce2-374e5e68ef43"
      },
      "source": [
        "#Download Kaggle1 directly from Kaggle.com\n",
        "! kaggle competitions download -c fake-news"
      ],
      "execution_count": null,
      "outputs": [
        {
          "output_type": "stream",
          "name": "stdout",
          "text": [
            "Warning: Looks like you're using an outdated API Version, please consider updating (server 1.5.12 / client 1.5.4)\n",
            "Downloading train.csv.zip to /content\n",
            " 94% 35.0M/37.0M [00:00<00:00, 60.4MB/s]\n",
            "100% 37.0M/37.0M [00:00<00:00, 93.5MB/s]\n",
            "Downloading test.csv.zip to /content\n",
            " 74% 7.00M/9.42M [00:00<00:00, 29.1MB/s]\n",
            "100% 9.42M/9.42M [00:00<00:00, 27.1MB/s]\n",
            "Downloading submit.csv to /content\n",
            "  0% 0.00/40.6k [00:00<?, ?B/s]\n",
            "100% 40.6k/40.6k [00:00<00:00, 38.1MB/s]\n"
          ]
        }
      ]
    },
    {
      "cell_type": "code",
      "metadata": {
        "colab": {
          "base_uri": "https://localhost:8080/"
        },
        "id": "Xbi4t-d9GNAV",
        "outputId": "dd2b7ad0-f5e8-426b-c3da-316fbd1cba32"
      },
      "source": [
        "#Download Kaggle2 directly from Kaggle.com\n",
        "! kaggle datasets download jruvika/fake-news-detection"
      ],
      "execution_count": null,
      "outputs": [
        {
          "output_type": "stream",
          "name": "stdout",
          "text": [
            "Downloading fake-news-detection.zip to /content\n",
            "\r  0% 0.00/4.89M [00:00<?, ?B/s]\n",
            "\r100% 4.89M/4.89M [00:00<00:00, 77.8MB/s]\n"
          ]
        }
      ]
    },
    {
      "cell_type": "code",
      "metadata": {
        "colab": {
          "base_uri": "https://localhost:8080/"
        },
        "id": "hJUPc1v5aaWq",
        "outputId": "e10e7679-56f7-40c1-bce4-102c0a519bd1"
      },
      "source": [
        "#Unzip Kaggle 1 folder\n",
        "!unzip /content/train.csv.zip"
      ],
      "execution_count": null,
      "outputs": [
        {
          "output_type": "stream",
          "name": "stdout",
          "text": [
            "Archive:  /content/train.csv.zip\n",
            "  inflating: train.csv               \n"
          ]
        }
      ]
    },
    {
      "cell_type": "code",
      "metadata": {
        "colab": {
          "base_uri": "https://localhost:8080/"
        },
        "id": "ygN6hJlBRu3o",
        "outputId": "6c56250e-a835-4148-869e-3ba2861b6dd3"
      },
      "source": [
        "#Unzip Kaggle 2 folder\n",
        "!unzip /content/fake-news-detection.zip"
      ],
      "execution_count": null,
      "outputs": [
        {
          "output_type": "stream",
          "name": "stdout",
          "text": [
            "Archive:  /content/fake-news-detection.zip\n",
            "  inflating: data.csv                \n",
            "  inflating: data.h5                 \n"
          ]
        }
      ]
    },
    {
      "cell_type": "code",
      "metadata": {
        "colab": {
          "base_uri": "https://localhost:8080/"
        },
        "id": "eGn4p_mdSP9J",
        "outputId": "dcb4ed3d-6af3-4f28-89c5-341d863bab57"
      },
      "source": [
        "#Import both Kaggle1+2\n",
        "kaggle2 = pd.read_csv(\"data.csv\")\n",
        "kaggle1 = pd.read_csv(\"train.csv\")\n",
        "kaggle1.info()\n",
        "kaggle2.info()"
      ],
      "execution_count": null,
      "outputs": [
        {
          "output_type": "stream",
          "name": "stdout",
          "text": [
            "<class 'pandas.core.frame.DataFrame'>\n",
            "RangeIndex: 20800 entries, 0 to 20799\n",
            "Data columns (total 5 columns):\n",
            " #   Column  Non-Null Count  Dtype \n",
            "---  ------  --------------  ----- \n",
            " 0   id      20800 non-null  int64 \n",
            " 1   title   20242 non-null  object\n",
            " 2   author  18843 non-null  object\n",
            " 3   text    20761 non-null  object\n",
            " 4   label   20800 non-null  int64 \n",
            "dtypes: int64(2), object(3)\n",
            "memory usage: 812.6+ KB\n",
            "<class 'pandas.core.frame.DataFrame'>\n",
            "RangeIndex: 4009 entries, 0 to 4008\n",
            "Data columns (total 4 columns):\n",
            " #   Column    Non-Null Count  Dtype \n",
            "---  ------    --------------  ----- \n",
            " 0   URLs      4009 non-null   object\n",
            " 1   Headline  4009 non-null   object\n",
            " 2   Body      3988 non-null   object\n",
            " 3   Label     4009 non-null   int64 \n",
            "dtypes: int64(1), object(3)\n",
            "memory usage: 125.4+ KB\n"
          ]
        }
      ]
    },
    {
      "cell_type": "code",
      "metadata": {
        "id": "8Cka2IMNYKYb"
      },
      "source": [
        "#Copy datasets - so I still retain the original dataset, and can refer back to the original if needed\n",
        "df_kag1 = kaggle1.copy()\n",
        "df_kag2 = kaggle2.copy()\n",
        "df_pfake = df_polifake.copy()\n",
        "df_pfact = df_polifact.copy()\n",
        "df_gfake = df_gcfake.copy()\n",
        "df_gfact = df_gcfact.copy()"
      ],
      "execution_count": null,
      "outputs": []
    },
    {
      "cell_type": "code",
      "metadata": {
        "id": "K0mYcMtSYtXD"
      },
      "source": [
        "#Add labels to PG datasets\n",
        "df_pfake['label'] = 1\n",
        "df_pfact['label'] = 0\n",
        "df_gfake['label'] = 1\n",
        "df_gfact['label'] = 0"
      ],
      "execution_count": null,
      "outputs": []
    },
    {
      "cell_type": "code",
      "metadata": {
        "colab": {
          "base_uri": "https://localhost:8080/"
        },
        "id": "28QpUFWgwuLW",
        "outputId": "85e45d43-f906-4997-8b2a-2edcef2788f3"
      },
      "source": [
        "#Change column names for Kaggle2\n",
        "df_kag2 = df_kag2.rename(columns={'Headline':'title','Label':'label'})\n",
        "df_kag2.info()"
      ],
      "execution_count": null,
      "outputs": [
        {
          "output_type": "stream",
          "name": "stdout",
          "text": [
            "<class 'pandas.core.frame.DataFrame'>\n",
            "RangeIndex: 4009 entries, 0 to 4008\n",
            "Data columns (total 4 columns):\n",
            " #   Column  Non-Null Count  Dtype \n",
            "---  ------  --------------  ----- \n",
            " 0   URLs    4009 non-null   object\n",
            " 1   title   4009 non-null   object\n",
            " 2   Body    3988 non-null   object\n",
            " 3   label   4009 non-null   int64 \n",
            "dtypes: int64(1), object(3)\n",
            "memory usage: 125.4+ KB\n"
          ]
        }
      ]
    },
    {
      "cell_type": "code",
      "metadata": {
        "colab": {
          "base_uri": "https://localhost:8080/"
        },
        "id": "imZvTFRsxfG0",
        "outputId": "a1b6b8a3-039b-4cec-e44e-8f50e27e5d41"
      },
      "source": [
        "#Remove nulls from 'title' in Kaggle1\n",
        "df_kag1 = df_kag1[df_kag1['title'].notna()]\n",
        "df_kag1.info()"
      ],
      "execution_count": null,
      "outputs": [
        {
          "output_type": "stream",
          "name": "stdout",
          "text": [
            "<class 'pandas.core.frame.DataFrame'>\n",
            "Int64Index: 20242 entries, 0 to 20799\n",
            "Data columns (total 5 columns):\n",
            " #   Column  Non-Null Count  Dtype \n",
            "---  ------  --------------  ----- \n",
            " 0   id      20242 non-null  int64 \n",
            " 1   title   20242 non-null  object\n",
            " 2   author  18285 non-null  object\n",
            " 3   text    20203 non-null  object\n",
            " 4   label   20242 non-null  int64 \n",
            "dtypes: int64(2), object(3)\n",
            "memory usage: 948.8+ KB\n"
          ]
        }
      ]
    },
    {
      "cell_type": "code",
      "metadata": {
        "colab": {
          "base_uri": "https://localhost:8080/"
        },
        "id": "_oCy6CzdZJsS",
        "outputId": "26ef2797-641e-46af-9e19-144573760ff4"
      },
      "source": [
        "#Merge datasets\n",
        "df_union1 = pd.concat([df_pfake, df_pfact, df_gfake, df_gfact, df_kag1, \n",
        "                       df_kag2], ignore_index=True)\n",
        "df_union1.info()"
      ],
      "execution_count": null,
      "outputs": [
        {
          "output_type": "stream",
          "name": "stdout",
          "text": [
            "<class 'pandas.core.frame.DataFrame'>\n",
            "RangeIndex: 47447 entries, 0 to 47446\n",
            "Data columns (total 9 columns):\n",
            " #   Column     Non-Null Count  Dtype \n",
            "---  ------     --------------  ----- \n",
            " 0   id         43438 non-null  object\n",
            " 1   news_url   22866 non-null  object\n",
            " 2   title      47447 non-null  object\n",
            " 3   tweet_ids  21695 non-null  object\n",
            " 4   label      47447 non-null  int64 \n",
            " 5   author     18285 non-null  object\n",
            " 6   text       20203 non-null  object\n",
            " 7   URLs       4009 non-null   object\n",
            " 8   Body       3988 non-null   object\n",
            "dtypes: int64(1), object(8)\n",
            "memory usage: 3.3+ MB\n"
          ]
        }
      ]
    },
    {
      "cell_type": "code",
      "metadata": {
        "colab": {
          "base_uri": "https://localhost:8080/"
        },
        "id": "-3mTNMkqY4yq",
        "outputId": "83406dd9-8905-46f0-a177-4edbcf7c8dda"
      },
      "source": [
        "#Drop features not being used: 'news_url','tweet_ids','author','text','URLs','Body'\n",
        "features_dropped = ['news_url','tweet_ids','author','text','URLs','Body']\n",
        "df_union1 = df_union1.drop(features_dropped, axis=1)\n",
        "df_union1.info()"
      ],
      "execution_count": null,
      "outputs": [
        {
          "output_type": "stream",
          "name": "stdout",
          "text": [
            "<class 'pandas.core.frame.DataFrame'>\n",
            "RangeIndex: 47447 entries, 0 to 47446\n",
            "Data columns (total 3 columns):\n",
            " #   Column  Non-Null Count  Dtype \n",
            "---  ------  --------------  ----- \n",
            " 0   id      43438 non-null  object\n",
            " 1   title   47447 non-null  object\n",
            " 2   label   47447 non-null  int64 \n",
            "dtypes: int64(1), object(2)\n",
            "memory usage: 1.1+ MB\n"
          ]
        }
      ]
    },
    {
      "cell_type": "code",
      "metadata": {
        "colab": {
          "base_uri": "https://localhost:8080/",
          "height": 204
        },
        "id": "scej3Q0cp6Qy",
        "outputId": "83c5247f-5ad3-4085-be7b-0918ec978f48"
      },
      "source": [
        "#Data Before Preprocessing\n",
        "df_union1.head()"
      ],
      "execution_count": null,
      "outputs": [
        {
          "output_type": "execute_result",
          "data": {
            "text/html": [
              "<div>\n",
              "<style scoped>\n",
              "    .dataframe tbody tr th:only-of-type {\n",
              "        vertical-align: middle;\n",
              "    }\n",
              "\n",
              "    .dataframe tbody tr th {\n",
              "        vertical-align: top;\n",
              "    }\n",
              "\n",
              "    .dataframe thead th {\n",
              "        text-align: right;\n",
              "    }\n",
              "</style>\n",
              "<table border=\"1\" class=\"dataframe\">\n",
              "  <thead>\n",
              "    <tr style=\"text-align: right;\">\n",
              "      <th></th>\n",
              "      <th>id</th>\n",
              "      <th>title</th>\n",
              "      <th>label</th>\n",
              "    </tr>\n",
              "  </thead>\n",
              "  <tbody>\n",
              "    <tr>\n",
              "      <th>0</th>\n",
              "      <td>politifact15014</td>\n",
              "      <td>BREAKING: First NFL Team Declares Bankruptcy O...</td>\n",
              "      <td>1</td>\n",
              "    </tr>\n",
              "    <tr>\n",
              "      <th>1</th>\n",
              "      <td>politifact15156</td>\n",
              "      <td>Court Orders Obama To Pay $400 Million In Rest...</td>\n",
              "      <td>1</td>\n",
              "    </tr>\n",
              "    <tr>\n",
              "      <th>2</th>\n",
              "      <td>politifact14745</td>\n",
              "      <td>UPDATE: Second Roy Moore Accuser Works For Mic...</td>\n",
              "      <td>1</td>\n",
              "    </tr>\n",
              "    <tr>\n",
              "      <th>3</th>\n",
              "      <td>politifact14355</td>\n",
              "      <td>Oscar Pistorius Attempts To Commit Suicide</td>\n",
              "      <td>1</td>\n",
              "    </tr>\n",
              "    <tr>\n",
              "      <th>4</th>\n",
              "      <td>politifact15371</td>\n",
              "      <td>Trump Votes For Death Penalty For Being Gay</td>\n",
              "      <td>1</td>\n",
              "    </tr>\n",
              "  </tbody>\n",
              "</table>\n",
              "</div>"
            ],
            "text/plain": [
              "                id                                              title  label\n",
              "0  politifact15014  BREAKING: First NFL Team Declares Bankruptcy O...      1\n",
              "1  politifact15156  Court Orders Obama To Pay $400 Million In Rest...      1\n",
              "2  politifact14745  UPDATE: Second Roy Moore Accuser Works For Mic...      1\n",
              "3  politifact14355         Oscar Pistorius Attempts To Commit Suicide      1\n",
              "4  politifact15371        Trump Votes For Death Penalty For Being Gay      1"
            ]
          },
          "metadata": {},
          "execution_count": 19
        }
      ]
    },
    {
      "cell_type": "code",
      "metadata": {
        "id": "uBJ6kimNcBaT",
        "colab": {
          "base_uri": "https://localhost:8080/"
        },
        "outputId": "2d4b0f33-d476-4973-a16e-543dcee743a1"
      },
      "source": [
        "#Import NLTK libraries. Used for data preprocessing.\n",
        "import nltk\n",
        "nltk.download('stopwords')\n",
        "from nltk.corpus import stopwords\n",
        "from nltk.stem.porter import PorterStemmer\n",
        "import re"
      ],
      "execution_count": null,
      "outputs": [
        {
          "output_type": "stream",
          "name": "stdout",
          "text": [
            "[nltk_data] Downloading package stopwords to /root/nltk_data...\n",
            "[nltk_data]   Unzipping corpora/stopwords.zip.\n"
          ]
        }
      ]
    },
    {
      "cell_type": "code",
      "metadata": {
        "id": "fsxmm2qO5HaL"
      },
      "source": [
        "#Data preprocessing: stop words, tokenize, stemming\n",
        "ps = PorterStemmer()\n",
        "def stop_stem(text):\n",
        "    text = re.sub('[^a-zA-Z]', ' ',text) #SYMBOLS: this basically replaces everything other than lower a-z & upper A-Z with a ' ', for eg apple,bananna --> apple bananna\n",
        "    text = text.lower() #LOWERCASE\n",
        "    text = text.split() #TOKENIZE: .split() splits the line into words with delimiter as ' '\n",
        "    text = [ps.stem(word) for word in text if not word in stopwords.words('english')] #STEM: basically remove all the stopwords and apply stemming to the final data\n",
        "    text = ' '.join(text) # this basically joins back and returns the cleaned sentence\n",
        "    return text"
      ],
      "execution_count": null,
      "outputs": []
    },
    {
      "cell_type": "code",
      "metadata": {
        "colab": {
          "base_uri": "https://localhost:8080/"
        },
        "id": "LEGXzpGKeRvk",
        "outputId": "65ab1f03-d831-4810-fb48-6364bcab7b83"
      },
      "source": [
        "print(stopwords.words('english'))"
      ],
      "execution_count": null,
      "outputs": [
        {
          "output_type": "stream",
          "name": "stdout",
          "text": [
            "['i', 'me', 'my', 'myself', 'we', 'our', 'ours', 'ourselves', 'you', \"you're\", \"you've\", \"you'll\", \"you'd\", 'your', 'yours', 'yourself', 'yourselves', 'he', 'him', 'his', 'himself', 'she', \"she's\", 'her', 'hers', 'herself', 'it', \"it's\", 'its', 'itself', 'they', 'them', 'their', 'theirs', 'themselves', 'what', 'which', 'who', 'whom', 'this', 'that', \"that'll\", 'these', 'those', 'am', 'is', 'are', 'was', 'were', 'be', 'been', 'being', 'have', 'has', 'had', 'having', 'do', 'does', 'did', 'doing', 'a', 'an', 'the', 'and', 'but', 'if', 'or', 'because', 'as', 'until', 'while', 'of', 'at', 'by', 'for', 'with', 'about', 'against', 'between', 'into', 'through', 'during', 'before', 'after', 'above', 'below', 'to', 'from', 'up', 'down', 'in', 'out', 'on', 'off', 'over', 'under', 'again', 'further', 'then', 'once', 'here', 'there', 'when', 'where', 'why', 'how', 'all', 'any', 'both', 'each', 'few', 'more', 'most', 'other', 'some', 'such', 'no', 'nor', 'not', 'only', 'own', 'same', 'so', 'than', 'too', 'very', 's', 't', 'can', 'will', 'just', 'don', \"don't\", 'should', \"should've\", 'now', 'd', 'll', 'm', 'o', 're', 've', 'y', 'ain', 'aren', \"aren't\", 'couldn', \"couldn't\", 'didn', \"didn't\", 'doesn', \"doesn't\", 'hadn', \"hadn't\", 'hasn', \"hasn't\", 'haven', \"haven't\", 'isn', \"isn't\", 'ma', 'mightn', \"mightn't\", 'mustn', \"mustn't\", 'needn', \"needn't\", 'shan', \"shan't\", 'shouldn', \"shouldn't\", 'wasn', \"wasn't\", 'weren', \"weren't\", 'won', \"won't\", 'wouldn', \"wouldn't\"]\n"
          ]
        }
      ]
    },
    {
      "cell_type": "code",
      "metadata": {
        "id": "cO81Of1QerCr"
      },
      "source": [
        "df_union1['title'] = df_union1['title'].(stop_stem)apply"
      ],
      "execution_count": null,
      "outputs": []
    },
    {
      "cell_type": "code",
      "metadata": {
        "colab": {
          "base_uri": "https://localhost:8080/",
          "height": 204
        },
        "id": "Y0ASxtJoe6jF",
        "outputId": "7062297f-72bf-41a5-b99c-b8ad642f32f3"
      },
      "source": [
        "df_union1.head()\n",
        "#Data After Preprocessing"
      ],
      "execution_count": null,
      "outputs": [
        {
          "output_type": "execute_result",
          "data": {
            "text/html": [
              "<div>\n",
              "<style scoped>\n",
              "    .dataframe tbody tr th:only-of-type {\n",
              "        vertical-align: middle;\n",
              "    }\n",
              "\n",
              "    .dataframe tbody tr th {\n",
              "        vertical-align: top;\n",
              "    }\n",
              "\n",
              "    .dataframe thead th {\n",
              "        text-align: right;\n",
              "    }\n",
              "</style>\n",
              "<table border=\"1\" class=\"dataframe\">\n",
              "  <thead>\n",
              "    <tr style=\"text-align: right;\">\n",
              "      <th></th>\n",
              "      <th>id</th>\n",
              "      <th>title</th>\n",
              "      <th>label</th>\n",
              "    </tr>\n",
              "  </thead>\n",
              "  <tbody>\n",
              "    <tr>\n",
              "      <th>0</th>\n",
              "      <td>politifact15014</td>\n",
              "      <td>break first nfl team declar bankruptci kneel thug</td>\n",
              "      <td>1</td>\n",
              "    </tr>\n",
              "    <tr>\n",
              "      <th>1</th>\n",
              "      <td>politifact15156</td>\n",
              "      <td>court order obama pay million restitut</td>\n",
              "      <td>1</td>\n",
              "    </tr>\n",
              "    <tr>\n",
              "      <th>2</th>\n",
              "      <td>politifact14745</td>\n",
              "      <td>updat second roy moor accus work michel obama ...</td>\n",
              "      <td>1</td>\n",
              "    </tr>\n",
              "    <tr>\n",
              "      <th>3</th>\n",
              "      <td>politifact14355</td>\n",
              "      <td>oscar pistoriu attempt commit suicid</td>\n",
              "      <td>1</td>\n",
              "    </tr>\n",
              "    <tr>\n",
              "      <th>4</th>\n",
              "      <td>politifact15371</td>\n",
              "      <td>trump vote death penalti gay</td>\n",
              "      <td>1</td>\n",
              "    </tr>\n",
              "  </tbody>\n",
              "</table>\n",
              "</div>"
            ],
            "text/plain": [
              "                id                                              title  label\n",
              "0  politifact15014  break first nfl team declar bankruptci kneel thug      1\n",
              "1  politifact15156             court order obama pay million restitut      1\n",
              "2  politifact14745  updat second roy moor accus work michel obama ...      1\n",
              "3  politifact14355               oscar pistoriu attempt commit suicid      1\n",
              "4  politifact15371                       trump vote death penalti gay      1"
            ]
          },
          "metadata": {},
          "execution_count": 24
        }
      ]
    },
    {
      "cell_type": "code",
      "metadata": {
        "id": "B7-q77w25ybN"
      },
      "source": [
        "#Independent variable: 'title'; Dependent variable: 'label'\n",
        "X = df_union1['title']\n",
        "Y = df_union1['label']"
      ],
      "execution_count": null,
      "outputs": []
    },
    {
      "cell_type": "code",
      "metadata": {
        "colab": {
          "base_uri": "https://localhost:8080/"
        },
        "id": "5beybYyr5zuJ",
        "outputId": "2e0b1c29-8334-4492-cc51-f9afddb838fe"
      },
      "source": [
        "# TF-IDF\n",
        "from sklearn.feature_extraction.text import TfidfVectorizer\n",
        "tfidf_vectorizer = TfidfVectorizer()\n",
        "X = tfidf_vectorizer.fit_transform(df_union1['title'])\n",
        "X.shape"
      ],
      "execution_count": null,
      "outputs": [
        {
          "output_type": "execute_result",
          "data": {
            "text/plain": [
              "(47447, 21254)"
            ]
          },
          "metadata": {},
          "execution_count": 26
        }
      ]
    },
    {
      "cell_type": "code",
      "metadata": {
        "id": "8uRA7xjW51Y0"
      },
      "source": [
        "#Split the entire dataset into training and test set, 80:20\n",
        "from sklearn.model_selection import train_test_split\n",
        "x_train, x_test, y_train, y_test = train_test_split(X, Y, test_size=0.2, random_state=1)"
      ],
      "execution_count": null,
      "outputs": []
    },
    {
      "cell_type": "code",
      "metadata": {
        "id": "HIFoknQc53ua"
      },
      "source": [
        "#Split the training set into training2 and validation, 70:30\n",
        "x_train2, x_val, y_train2, y_val = train_test_split(x_train, y_train, test_size=0.3, random_state=1)"
      ],
      "execution_count": null,
      "outputs": []
    },
    {
      "cell_type": "code",
      "metadata": {
        "id": "wGlKsfqThZES"
      },
      "source": [
        "#Create metrics table for VALIDATION set. \n",
        "#Training Set Results: Shows how well model performs on the training data. Initial test for the model to get a feel for the data. \n",
        "#Validation Set Results: More important - shows how generalizable the data is. This is reflective of how the model will perform in the wild. \n",
        "from sklearn.metrics import confusion_matrix, accuracy_score, classification_report\n",
        "\n",
        "def evaluate1(model, x_train2, x_val, y_train2, y_val):\n",
        "    y_train_pred = model.predict(x_train2)\n",
        "    y_test_pred = model.predict(x_val)\n",
        "\n",
        "    print(\"TRAINING RESULTS: \\n===============================\")\n",
        "    clf_report = pd.DataFrame(classification_report(y_train2, y_train_pred, output_dict=True))\n",
        "    print(f\"CONFUSION MATRIX:\\n{confusion_matrix(y_train2, y_train_pred)}\")\n",
        "    print(f\"ACCURACY SCORE:\\n{accuracy_score(y_train2, y_train_pred):.4f}\")\n",
        "    print(f\"CLASSIFICATION REPORT:\\n{clf_report}\")\n",
        "\n",
        "    print(\"VALIDATION SET RESULTS: \\n===============================\")\n",
        "    clf_report = pd.DataFrame(classification_report(y_val, y_test_pred, output_dict=True))\n",
        "    print(f\"CONFUSION MATRIX:\\n{confusion_matrix(y_val, y_test_pred)}\")\n",
        "    print(f\"ACCURACY SCORE:\\n{accuracy_score(y_val, y_test_pred):.4f}\")\n",
        "    print(f\"CLASSIFICATION REPORT:\\n{clf_report}\")"
      ],
      "execution_count": null,
      "outputs": []
    },
    {
      "cell_type": "code",
      "metadata": {
        "colab": {
          "base_uri": "https://localhost:8080/"
        },
        "id": "foBY5p3s54uF",
        "outputId": "05f24a9b-66af-4804-fef6-0a1f36e1027c"
      },
      "source": [
        "#Logistic Regression - Train-Validate\n",
        "from sklearn.linear_model import LogisticRegression\n",
        "from sklearn.metrics import classification_report\n",
        "lr = LogisticRegression()\n",
        "#Fitting training set to the model\n",
        "lr.fit(x_train2,y_train2)\n",
        "#Metrics report\n",
        "evaluate1(lr, x_train2, x_val, y_train2, y_val)"
      ],
      "execution_count": null,
      "outputs": [
        {
          "output_type": "stream",
          "name": "stdout",
          "text": [
            "TRAINING RESULTS: \n",
            "===============================\n",
            "CONFUSION MATRIX:\n",
            "[[15825  1000]\n",
            " [ 2094  7650]]\n",
            "ACCURACY SCORE:\n",
            "0.8835\n",
            "CLASSIFICATION REPORT:\n",
            "                      0            1  accuracy     macro avg  weighted avg\n",
            "precision      0.883141     0.884393  0.883548      0.883767      0.883600\n",
            "recall         0.940565     0.785099  0.883548      0.862832      0.883548\n",
            "f1-score       0.910949     0.831793  0.883548      0.871371      0.881919\n",
            "support    16825.000000  9744.000000  0.883548  26569.000000  26569.000000\n",
            "VALIDATION SET RESULTS: \n",
            "===============================\n",
            "CONFUSION MATRIX:\n",
            "[[6442  704]\n",
            " [1353 2889]]\n",
            "ACCURACY SCORE:\n",
            "0.8194\n",
            "CLASSIFICATION REPORT:\n",
            "                     0            1  accuracy     macro avg  weighted avg\n",
            "precision     0.826427     0.804063  0.819371      0.815245      0.818097\n",
            "recall        0.901483     0.681047  0.819371      0.791265      0.819371\n",
            "f1-score      0.862325     0.737460  0.819371      0.799893      0.815813\n",
            "support    7146.000000  4242.000000  0.819371  11388.000000  11388.000000\n"
          ]
        }
      ]
    },
    {
      "cell_type": "code",
      "metadata": {
        "id": "FG2sAZyB56IC",
        "colab": {
          "base_uri": "https://localhost:8080/"
        },
        "outputId": "1805d946-5c62-40b5-b166-662bb81b0f56"
      },
      "source": [
        "#Support Vector Machine - Train-Validate\n",
        "from sklearn.svm import SVC\n",
        "svm = SVC()\n",
        "#Fitting training set to the model\n",
        "svm.fit(x_train2,y_train2)\n",
        "#Metrics report\n",
        "evaluate1(svm, x_train2, x_val, y_train2, y_val)"
      ],
      "execution_count": null,
      "outputs": [
        {
          "output_type": "stream",
          "name": "stdout",
          "text": [
            "TRAINING RESULTS: \n",
            "===============================\n",
            "CONFUSION MATRIX:\n",
            "[[16625   200]\n",
            " [  499  9245]]\n",
            "ACCURACY SCORE:\n",
            "0.9737\n",
            "CLASSIFICATION REPORT:\n",
            "                      0            1  accuracy     macro avg  weighted avg\n",
            "precision      0.970860     0.978825  0.973691      0.974842      0.973781\n",
            "recall         0.988113     0.948789  0.973691      0.968451      0.973691\n",
            "f1-score       0.979410     0.963573  0.973691      0.971492      0.973602\n",
            "support    16825.000000  9744.000000  0.973691  26569.000000  26569.000000\n",
            "VALIDATION SET RESULTS: \n",
            "===============================\n",
            "CONFUSION MATRIX:\n",
            "[[6511  635]\n",
            " [1215 3027]]\n",
            "ACCURACY SCORE:\n",
            "0.8375\n",
            "CLASSIFICATION REPORT:\n",
            "                     0            1  accuracy     macro avg  weighted avg\n",
            "precision     0.842739     0.826597  0.837548      0.834668      0.836726\n",
            "recall        0.911139     0.713579  0.837548      0.812359      0.837548\n",
            "f1-score      0.875605     0.765941  0.837548      0.820773      0.834756\n",
            "support    7146.000000  4242.000000  0.837548  11388.000000  11388.000000\n"
          ]
        }
      ]
    },
    {
      "cell_type": "code",
      "metadata": {
        "id": "aGvJRizV560J",
        "colab": {
          "base_uri": "https://localhost:8080/"
        },
        "outputId": "9353f8b6-5f5d-4249-caeb-dab51b75bef9"
      },
      "source": [
        "#K-Nearest Neighbors - Train-Validate\n",
        "from sklearn.neighbors import KNeighborsClassifier\n",
        "knn = KNeighborsClassifier(n_neighbors=4)\n",
        "#Fitting training set to the model\n",
        "knn.fit(x_train2,y_train2)\n",
        "#Metrics report\n",
        "evaluate1(knn, x_train2, x_val, y_train2, y_val)"
      ],
      "execution_count": null,
      "outputs": [
        {
          "output_type": "stream",
          "name": "stdout",
          "text": [
            "TRAINING RESULTS: \n",
            "===============================\n",
            "CONFUSION MATRIX:\n",
            "[[ 6329 10496]\n",
            " [  495  9249]]\n",
            "ACCURACY SCORE:\n",
            "0.5863\n",
            "CLASSIFICATION REPORT:\n",
            "                      0            1  accuracy     macro avg  weighted avg\n",
            "precision      0.927462     0.468422  0.586322      0.697942      0.759112\n",
            "recall         0.376166     0.949200  0.586322      0.662683      0.586322\n",
            "f1-score       0.535245     0.627285  0.586322      0.581265      0.569000\n",
            "support    16825.000000  9744.000000  0.586322  26569.000000  26569.000000\n",
            "VALIDATION SET RESULTS: \n",
            "===============================\n",
            "CONFUSION MATRIX:\n",
            "[[1298 5848]\n",
            " [ 275 3967]]\n",
            "ACCURACY SCORE:\n",
            "0.4623\n",
            "CLASSIFICATION REPORT:\n",
            "                     0            1  accuracy     macro avg  weighted avg\n",
            "precision     0.825175     0.404177  0.462329      0.614676      0.668354\n",
            "recall        0.181640     0.935172  0.462329      0.558406      0.462329\n",
            "f1-score      0.297741     0.564416  0.462329      0.431078      0.397077\n",
            "support    7146.000000  4242.000000  0.462329  11388.000000  11388.000000\n"
          ]
        }
      ]
    },
    {
      "cell_type": "code",
      "metadata": {
        "id": "eH_dAR3ogQae",
        "colab": {
          "base_uri": "https://localhost:8080/"
        },
        "outputId": "d0f4023a-ec20-414d-b5e0-0369af800336"
      },
      "source": [
        "#Voting ensemble - Train-Validate\n",
        "from sklearn.ensemble import VotingClassifier\n",
        "\n",
        "estimators = []\n",
        "estimators.append(('Logistic', lr))\n",
        "\n",
        "estimators.append(('SVM', svm))\n",
        "\n",
        "estimators.append(('KNN', knn))\n",
        "\n",
        "voting = VotingClassifier(estimators=estimators)\n",
        "voting.fit(x_train2, y_train2)\n",
        "\n",
        "evaluate1(voting, x_train2, x_val, y_train2, y_val)"
      ],
      "execution_count": null,
      "outputs": [
        {
          "output_type": "stream",
          "name": "stdout",
          "text": [
            "TRAINING RESULTS: \n",
            "===============================\n",
            "CONFUSION MATRIX:\n",
            "[[16066   759]\n",
            " [  617  9127]]\n",
            "ACCURACY SCORE:\n",
            "0.9482\n",
            "CLASSIFICATION REPORT:\n",
            "                      0            1  accuracy     macro avg  weighted avg\n",
            "precision      0.963016     0.923225   0.94821      0.943121      0.948423\n",
            "recall         0.954889     0.936679   0.94821      0.945784      0.948210\n",
            "f1-score       0.958935     0.929903   0.94821      0.944419      0.948288\n",
            "support    16825.000000  9744.000000   0.94821  26569.000000  26569.000000\n",
            "VALIDATION SET RESULTS: \n",
            "===============================\n",
            "CONFUSION MATRIX:\n",
            "[[6413  733]\n",
            " [1161 3081]]\n",
            "ACCURACY SCORE:\n",
            "0.8337\n",
            "CLASSIFICATION REPORT:\n",
            "                     0            1  accuracy     macro avg  weighted avg\n",
            "precision     0.846712     0.807813  0.833685      0.827263      0.832223\n",
            "recall        0.897425     0.726308  0.833685      0.811867      0.833685\n",
            "f1-score      0.871332     0.764896  0.833685      0.818114      0.831684\n",
            "support    7146.000000  4242.000000  0.833685  11388.000000  11388.000000\n"
          ]
        }
      ]
    },
    {
      "cell_type": "code",
      "metadata": {
        "colab": {
          "base_uri": "https://localhost:8080/"
        },
        "id": "7p3fwVXOpRtR",
        "outputId": "1108d5bf-4eaa-470d-9e22-b564adf89804"
      },
      "source": [
        "#AUC-ROC curve setup - Soft voting\n",
        "voting2 = VotingClassifier(estimators=estimators, voting='soft')\n",
        "voting2.fit(x_train2, y_train2)"
      ],
      "execution_count": null,
      "outputs": [
        {
          "output_type": "execute_result",
          "data": {
            "text/plain": [
              "VotingClassifier(estimators=[('Logistic',\n",
              "                              LogisticRegression(C=1.0, class_weight=None,\n",
              "                                                 dual=False, fit_intercept=True,\n",
              "                                                 intercept_scaling=1,\n",
              "                                                 l1_ratio=None, max_iter=100,\n",
              "                                                 multi_class='auto',\n",
              "                                                 n_jobs=None, penalty='l2',\n",
              "                                                 random_state=None,\n",
              "                                                 solver='lbfgs', tol=0.0001,\n",
              "                                                 verbose=0, warm_start=False)),\n",
              "                             ('SVM',\n",
              "                              SVC(C=1.0, break_ties=False, cache_size=200,\n",
              "                                  class_weight=None, coef0...\n",
              "                                  decision_function_shape='ovr', degree=3,\n",
              "                                  gamma='scale', kernel='rbf', max_iter=-1,\n",
              "                                  probability=True, random_state=None,\n",
              "                                  shrinking=True, tol=0.001, verbose=False)),\n",
              "                             ('KNN',\n",
              "                              KNeighborsClassifier(algorithm='auto',\n",
              "                                                   leaf_size=30,\n",
              "                                                   metric='minkowski',\n",
              "                                                   metric_params=None,\n",
              "                                                   n_jobs=None, n_neighbors=4,\n",
              "                                                   p=2, weights='uniform'))],\n",
              "                 flatten_transform=True, n_jobs=None, voting='soft',\n",
              "                 weights=None)"
            ]
          },
          "metadata": {},
          "execution_count": 44
        }
      ]
    },
    {
      "cell_type": "code",
      "metadata": {
        "id": "mAfbL_PTpR55"
      },
      "source": [
        "#AUC-ROC curve setup - Create probability prediction \n",
        "y_pred_logistic = lr.decision_function(x_val)\n",
        "y_pred_svm = svm.decision_function(x_val)\n",
        "y_pred_knn = knn.predict_proba(x_val)\n",
        "y_pred_vote = voting2.predict_proba(x_val)"
      ],
      "execution_count": null,
      "outputs": []
    },
    {
      "cell_type": "code",
      "metadata": {
        "colab": {
          "base_uri": "https://localhost:8080/",
          "height": 457
        },
        "id": "_c2T5pAMplpk",
        "outputId": "9627f2d9-d848-4795-f58e-6abf2b39c6f7"
      },
      "source": [
        "#AUC-ROC curves\n",
        "import matplotlib.pyplot as plt\n",
        "from sklearn.metrics import roc_curve, auc\n",
        "\n",
        "logistic_fpr, logistic_tpr, threshold = roc_curve(y_val, y_pred_logistic)\n",
        "auc_logistic = auc(logistic_fpr, logistic_tpr)\n",
        "\n",
        "svm_fpr, svm_tpr, threshold = roc_curve(y_val, y_pred_svm)\n",
        "auc_svm = auc(svm_fpr, svm_tpr)\n",
        "\n",
        "knn_fpr, knn_tpr, threshold = roc_curve(y_val, y_pred_knn[:,1])\n",
        "auc_knn = auc(knn_fpr, knn_tpr)\n",
        "\n",
        "vote_fpr, vote_tpr, threshold = roc_curve(y_val, y_pred_vote[:,1])\n",
        "auc_vote = auc(vote_fpr, vote_tpr)\n",
        "\n",
        "plt.figure(figsize=(5, 5), dpi=100)\n",
        "plt.plot(logistic_fpr, logistic_tpr, linestyle='-', label='Logistic (auc = %0.3f)' % auc_logistic)\n",
        "plt.plot(svm_fpr, svm_tpr, linestyle='-', label='SVM (auc = %0.3f)' % auc_svm)\n",
        "plt.plot(knn_fpr, knn_tpr, linestyle='-', label='KNN (auc = %0.3f)' % auc_knn)\n",
        "plt.plot(vote_fpr, vote_tpr, linestyle='-', label='Voting Ensemble (auc = %0.3f)' % auc_vote)\n",
        "\n",
        "\n",
        "plt.xlabel('False Positive Rate -->')\n",
        "plt.ylabel('True Positive Rate -->')\n",
        "\n",
        "plt.legend()\n",
        "\n",
        "plt.show()"
      ],
      "execution_count": null,
      "outputs": [
        {
          "output_type": "display_data",
          "data": {
            "image/png": "[encoded data removed]",
            "text/plain": [
              "<Figure size 500x500 with 1 Axes>"
            ]
          },
          "metadata": {
            "needs_background": "light"
          }
        }
      ]
    },
    {
      "cell_type": "code",
      "metadata": {
        "id": "_R8qc3JFIsjS"
      },
      "source": [
        "#Parameter tuning - GridSearchCV\n",
        "from sklearn.model_selection import GridSearchCV"
      ],
      "execution_count": null,
      "outputs": []
    },
    {
      "cell_type": "code",
      "metadata": {
        "id": "HsNI0QBR6Fjw"
      },
      "source": [
        "#Logistic Regression - hyperparameter options\n",
        "lr_param = {  \n",
        "  'solver':['liblinear'],\n",
        "  'C': [0.001,0.01,0.1,1,10,100],\n",
        "  'penalty': ['l1','l2']\n",
        "}"
      ],
      "execution_count": null,
      "outputs": []
    },
    {
      "cell_type": "code",
      "metadata": {
        "colab": {
          "base_uri": "https://localhost:8080/"
        },
        "id": "PpOeEBwr66B0",
        "outputId": "12d20cea-c69f-45ab-8dfc-6b7739b7643b"
      },
      "source": [
        "'''\n",
        "#WARNING - LONG PROCESSING TIME\n",
        "#Logistic Regression - optimal parameters\n",
        "lr_grid = GridSearchCV(lr,lr_param)\n",
        "lr_grid.fit(x_train2,y_train2)\n",
        "lr_grid.best_estimator_\n",
        "'''"
      ],
      "execution_count": null,
      "outputs": [
        {
          "output_type": "execute_result",
          "data": {
            "text/plain": [
              "LogisticRegression(C=10, class_weight=None, dual=False, fit_intercept=True,\n",
              "                   intercept_scaling=1, l1_ratio=None, max_iter=100,\n",
              "                   multi_class='auto', n_jobs=None, penalty='l2',\n",
              "                   random_state=None, solver='liblinear', tol=0.0001, verbose=0,\n",
              "                   warm_start=False)"
            ]
          },
          "metadata": {},
          "execution_count": 38
        }
      ]
    },
    {
      "cell_type": "code",
      "metadata": {
        "id": "SYkvJvS56JkO"
      },
      "source": [
        "#SVM - hyperparameter options\n",
        "svm_param = {\n",
        "  'C': [0.1, 1, 10, 100, 1000], \n",
        "  'gamma': [1, 0.1, 0.01, 0.001],\n",
        "  'kernel': ['rbf']\n",
        "}"
      ],
      "execution_count": null,
      "outputs": []
    },
    {
      "cell_type": "code",
      "metadata": {
        "id": "Ba2ec3cs7WvQ"
      },
      "source": [
        "'''\n",
        "#WARNING - LONG PROCESSING TIME\n",
        "#SVM - optimal parameters\n",
        "svm_grid = GridSearchCV(svm,svm_param,refit = True, verbose = 3)\n",
        "svm_grid.fit(x_train2,y_train2)\n",
        "svm_grid.best_estimator_\n",
        "'''"
      ],
      "execution_count": null,
      "outputs": []
    },
    {
      "cell_type": "code",
      "metadata": {
        "id": "rPm6Z8Pl6jZa"
      },
      "source": [
        "#KNN - hyperparameter options\n",
        "knn_param = {\n",
        "  'n_neighbors': list(range(1,15)),\n",
        "  'leaf_size': list(range(1,5)),\n",
        "  'p': [1,2]\n",
        "}"
      ],
      "execution_count": null,
      "outputs": []
    },
    {
      "cell_type": "code",
      "metadata": {
        "id": "VZ-QbjX37bwW",
        "colab": {
          "base_uri": "https://localhost:8080/"
        },
        "outputId": "5b1dc9e5-364f-47c1-9f1d-4deded174d7f"
      },
      "source": [
        "'''\n",
        "#WARNING - LONG PROCESSING TIME\n",
        "#KNN - optimal parameters\n",
        "knn_grid = GridSearchCV(knn,knn_param)\n",
        "knn_grid.fit(x_train2,y_train2)\n",
        "knn_grid.best_estimator_\n",
        "'''"
      ],
      "execution_count": null,
      "outputs": [
        {
          "output_type": "execute_result",
          "data": {
            "text/plain": [
              "KNeighborsClassifier(algorithm='auto', leaf_size=1, metric='minkowski',\n",
              "                     metric_params=None, n_jobs=None, n_neighbors=11, p=2,\n",
              "                     weights='uniform')"
            ]
          },
          "metadata": {},
          "execution_count": 61
        }
      ]
    },
    {
      "cell_type": "code",
      "metadata": {
        "id": "zuOQXAQjp0vo",
        "colab": {
          "base_uri": "https://localhost:8080/"
        },
        "outputId": "b8ccffb3-697f-4301-cbc8-86fa6e7900c4"
      },
      "source": [
        "#OPTIMIZED - logistic regression\n",
        "from sklearn.linear_model import LogisticRegression\n",
        "lr2 = LogisticRegression(C=10, solver='liblinear', penalty='l2')\n",
        "#Fitting training set to the model\n",
        "lr2.fit(x_train2,y_train2)\n",
        "#Metrics report\n",
        "evaluate1(lr2, x_train2, x_val, y_train2, y_val)"
      ],
      "execution_count": null,
      "outputs": [
        {
          "output_type": "stream",
          "name": "stdout",
          "text": [
            "TRAINING RESULTS: \n",
            "===============================\n",
            "CONFUSION MATRIX:\n",
            "[[16142   683]\n",
            " [  922  8822]]\n",
            "ACCURACY SCORE:\n",
            "0.9396\n",
            "CLASSIFICATION REPORT:\n",
            "                      0            1  accuracy     macro avg  weighted avg\n",
            "precision      0.945968     0.928143  0.939591      0.937056      0.939431\n",
            "recall         0.959406     0.905378  0.939591      0.932392      0.939591\n",
            "f1-score       0.952639     0.916619  0.939591      0.934629      0.939429\n",
            "support    16825.000000  9744.000000  0.939591  26569.000000  26569.000000\n",
            "VALIDATION SET RESULTS: \n",
            "===============================\n",
            "CONFUSION MATRIX:\n",
            "[[6223  923]\n",
            " [1078 3164]]\n",
            "ACCURACY SCORE:\n",
            "0.8243\n",
            "CLASSIFICATION REPORT:\n",
            "                     0            1  accuracy     macro avg  weighted avg\n",
            "precision     0.852349     0.774162  0.824289      0.813255      0.823225\n",
            "recall        0.870837     0.745875  0.824289      0.808356      0.824289\n",
            "f1-score      0.861494     0.759755  0.824289      0.810624      0.823596\n",
            "support    7146.000000  4242.000000  0.824289  11388.000000  11388.000000\n"
          ]
        }
      ]
    },
    {
      "cell_type": "code",
      "metadata": {
        "id": "2YQSW2jep3Ng",
        "colab": {
          "base_uri": "https://localhost:8080/"
        },
        "outputId": "6a6025c4-effc-44af-f4c2-9dade3fd7226"
      },
      "source": [
        "#OPTIMIZED - SVM\n",
        "from sklearn.svm import SVC\n",
        "svm2 = SVC(C=100, gamma=1, kernel='rbf')\n",
        "#Fitting training set to the model\n",
        "svm2.fit(x_train2,y_train2)\n",
        "#Metrics report\n",
        "evaluate1(svm2, x_train2, x_val, y_train2, y_val)"
      ],
      "execution_count": null,
      "outputs": [
        {
          "output_type": "stream",
          "name": "stdout",
          "text": [
            "TRAINING RESULTS: \n",
            "===============================\n",
            "CONFUSION MATRIX:\n",
            "[[16800    25]\n",
            " [   35  9709]]\n",
            "ACCURACY SCORE:\n",
            "0.9977\n",
            "CLASSIFICATION REPORT:\n",
            "                      0            1  accuracy     macro avg  weighted avg\n",
            "precision      0.997921     0.997432  0.997742      0.997676      0.997742\n",
            "recall         0.998514     0.996408  0.997742      0.997461      0.997742\n",
            "f1-score       0.998217     0.996920  0.997742      0.997569      0.997741\n",
            "support    16825.000000  9744.000000  0.997742  26569.000000  26569.000000\n",
            "VALIDATION SET RESULTS: \n",
            "===============================\n",
            "CONFUSION MATRIX:\n",
            "[[6389  757]\n",
            " [1072 3170]]\n",
            "ACCURACY SCORE:\n",
            "0.8394\n",
            "CLASSIFICATION REPORT:\n",
            "                     0            1  accuracy     macro avg  weighted avg\n",
            "precision     0.856320     0.807232  0.839392      0.831776      0.838035\n",
            "recall        0.894067     0.747289  0.839392      0.820678      0.839392\n",
            "f1-score      0.874786     0.776105  0.839392      0.825445      0.838028\n",
            "support    7146.000000  4242.000000  0.839392  11388.000000  11388.000000\n"
          ]
        }
      ]
    },
    {
      "cell_type": "code",
      "metadata": {
        "id": "h_58OYM2p6Pl"
      },
      "source": [
        "#OPTIMIZED - KNN (gridsearchcv)\n",
        "from sklearn.neighbors import KNeighborsClassifier\n",
        "knn2 = KNeighborsClassifier(leaf_size=1, n_neighbors=11, p=2)\n",
        "#Fitting training set to the model\n",
        "knn2.fit(x_train2,y_train2)\n",
        "#Metrics report\n",
        "evaluate1(knn2, x_train2, x_val, y_train2, y_val)"
      ],
      "execution_count": null,
      "outputs": []
    },
    {
      "cell_type": "code",
      "metadata": {
        "id": "IWLPfF7c9gU4",
        "colab": {
          "base_uri": "https://localhost:8080/"
        },
        "outputId": "223ad96e-1c85-41c2-ef44-072e1da67892"
      },
      "source": [
        "#OPTIMIZED - KNN (initial hyperparameters)\n",
        "from sklearn.neighbors import KNeighborsClassifier\n",
        "knn3 = KNeighborsClassifier(leaf_size=1, n_neighbors=4, p=2)\n",
        "#Fitting training set to the model\n",
        "knn3.fit(x_train2,y_train2)\n",
        "#Metrics report\n",
        "evaluate1(knn3, x_train2, x_val, y_train2, y_val)"
      ],
      "execution_count": null,
      "outputs": [
        {
          "output_type": "stream",
          "name": "stdout",
          "text": [
            "TRAINING RESULTS: \n",
            "===============================\n",
            "CONFUSION MATRIX:\n",
            "[[ 6329 10496]\n",
            " [  495  9249]]\n",
            "ACCURACY SCORE:\n",
            "0.5863\n",
            "CLASSIFICATION REPORT:\n",
            "                      0            1  accuracy     macro avg  weighted avg\n",
            "precision      0.927462     0.468422  0.586322      0.697942      0.759112\n",
            "recall         0.376166     0.949200  0.586322      0.662683      0.586322\n",
            "f1-score       0.535245     0.627285  0.586322      0.581265      0.569000\n",
            "support    16825.000000  9744.000000  0.586322  26569.000000  26569.000000\n",
            "VALIDATION SET RESULTS: \n",
            "===============================\n",
            "CONFUSION MATRIX:\n",
            "[[1298 5848]\n",
            " [ 275 3967]]\n",
            "ACCURACY SCORE:\n",
            "0.4623\n",
            "CLASSIFICATION REPORT:\n",
            "                     0            1  accuracy     macro avg  weighted avg\n",
            "precision     0.825175     0.404177  0.462329      0.614676      0.668354\n",
            "recall        0.181640     0.935172  0.462329      0.558406      0.462329\n",
            "f1-score      0.297741     0.564416  0.462329      0.431078      0.397077\n",
            "support    7146.000000  4242.000000  0.462329  11388.000000  11388.000000\n"
          ]
        }
      ]
    },
    {
      "cell_type": "code",
      "metadata": {
        "id": "F0RruFvJBund",
        "colab": {
          "base_uri": "https://localhost:8080/"
        },
        "outputId": "8505c277-3406-4b99-8acc-675b0d6fe6a9"
      },
      "source": [
        "#OPTIMIZED - Voting ensemble\n",
        "from sklearn.ensemble import VotingClassifier\n",
        "\n",
        "estimators1 = []\n",
        "estimators1.append(('Logistic', lr2))\n",
        "\n",
        "estimators1.append(('SVM', svm2))\n",
        "\n",
        "estimators1.append(('KNN', knn3))\n",
        "\n",
        "voting2 = VotingClassifier(estimators=estimators1)\n",
        "voting2.fit(x_train2, y_train2)\n",
        "\n",
        "evaluate1(voting2, x_train2, x_val, y_train2, y_val)"
      ],
      "execution_count": null,
      "outputs": [
        {
          "output_type": "stream",
          "name": "stdout",
          "text": [
            "TRAINING RESULTS: \n",
            "===============================\n",
            "CONFUSION MATRIX:\n",
            "[[16376   449]\n",
            " [  210  9534]]\n",
            "ACCURACY SCORE:\n",
            "0.9752\n",
            "CLASSIFICATION REPORT:\n",
            "                      0            1  accuracy     macro avg  weighted avg\n",
            "precision      0.987339     0.955024  0.975197      0.971181      0.975487\n",
            "recall         0.973314     0.978448  0.975197      0.975881      0.975197\n",
            "f1-score       0.980276     0.966594  0.975197      0.973435      0.975258\n",
            "support    16825.000000  9744.000000  0.975197  26569.000000  26569.000000\n",
            "VALIDATION SET RESULTS: \n",
            "===============================\n",
            "CONFUSION MATRIX:\n",
            "[[6211  935]\n",
            " [ 963 3279]]\n",
            "ACCURACY SCORE:\n",
            "0.8333\n",
            "CLASSIFICATION REPORT:\n",
            "                     0            1  accuracy     macro avg  weighted avg\n",
            "precision     0.865765     0.778121  0.833333      0.821943      0.833118\n",
            "recall        0.869158     0.772984  0.833333      0.821071      0.833333\n",
            "f1-score      0.867458     0.775544  0.833333      0.821501      0.833220\n",
            "support    7146.000000  4242.000000  0.833333  11388.000000  11388.000000\n"
          ]
        }
      ]
    },
    {
      "cell_type": "code",
      "metadata": {
        "id": "Nmz22TrfBup5"
      },
      "source": [
        "#FINAL TEST - create metrics table\n",
        "\n",
        "def evaluate_final(model, x_train, x_test, y_train, y_test):\n",
        "    y_test_pred = model.predict(x_test)\n",
        "\n",
        "    print(\"TESTING RESULTS: \\n===============================\")\n",
        "    clf_report = pd.DataFrame(classification_report(y_test, y_test_pred, output_dict=True))\n",
        "    print(f\"CONFUSION MATRIX:\\n{confusion_matrix(y_test, y_test_pred)}\")\n",
        "    print(f\"ACCURACY SCORE:\\n{accuracy_score(y_test, y_test_pred):.4f}\")\n",
        "    print(f\"CLASSIFICATION REPORT:\\n{clf_report}\")"
      ],
      "execution_count": null,
      "outputs": []
    },
    {
      "cell_type": "code",
      "metadata": {
        "id": "h0fhikA1qXTq",
        "colab": {
          "base_uri": "https://localhost:8080/"
        },
        "outputId": "cc9272df-db64-4681-fb88-610be3184ea9"
      },
      "source": [
        "#FINAL TEST - LR\n",
        "\n",
        "lr_final = LogisticRegression(C=10, solver='liblinear', penalty='l2')\n",
        "#Fitting training set to the model\n",
        "lr_final.fit(x_train,y_train)\n",
        "#Metrics report\n",
        "evaluate_final(lr_final, x_train, x_test, y_train, y_test)"
      ],
      "execution_count": null,
      "outputs": [
        {
          "output_type": "stream",
          "name": "stdout",
          "text": [
            "TESTING RESULTS: \n",
            "===============================\n",
            "CONFUSION MATRIX:\n",
            "[[5286  708]\n",
            " [ 842 2654]]\n",
            "ACCURACY SCORE:\n",
            "0.8367\n",
            "CLASSIFICATION REPORT:\n",
            "                     0            1  accuracy    macro avg  weighted avg\n",
            "precision     0.862598     0.789411   0.83667     0.826004      0.835637\n",
            "recall        0.881882     0.759153   0.83667     0.820518      0.836670\n",
            "f1-score      0.872133     0.773987   0.83667     0.823060      0.835977\n",
            "support    5994.000000  3496.000000   0.83667  9490.000000   9490.000000\n"
          ]
        }
      ]
    },
    {
      "cell_type": "code",
      "metadata": {
        "id": "UlcNl2j1qZWh",
        "colab": {
          "base_uri": "https://localhost:8080/",
          "height": 198
        },
        "outputId": "84e3643e-a5a5-4178-f566-bc63d6510724"
      },
      "source": [
        "#FINAL TEST - SVM\n",
        "\n",
        "svm_final = SVC(C=100, gamma=1, kernel='rbf', probability=True)\n",
        "#Fitting training set to the model\n",
        "svm_final.fit(x_train,y_train)\n",
        "#Metrics report\n",
        "evaluate_final(svm_final, x_train, x_test, y_train, y_test)"
      ],
      "execution_count": null,
      "outputs": [
        {
          "output_type": "error",
          "ename": "NameError",
          "evalue": "ignored",
          "traceback": [
            "\u001b[0;31m---------------------------------------------------------------------------\u001b[0m",
            "\u001b[0;31mNameError\u001b[0m                                 Traceback (most recent call last)",
            "\u001b[0;32m<ipython-input-39-0dfc323b44c2>\u001b[0m in \u001b[0;36m<module>\u001b[0;34m()\u001b[0m\n\u001b[1;32m      5\u001b[0m \u001b[0msvm_final\u001b[0m\u001b[0;34m.\u001b[0m\u001b[0mfit\u001b[0m\u001b[0;34m(\u001b[0m\u001b[0mx_train\u001b[0m\u001b[0;34m,\u001b[0m\u001b[0my_train\u001b[0m\u001b[0;34m)\u001b[0m\u001b[0;34m\u001b[0m\u001b[0;34m\u001b[0m\u001b[0m\n\u001b[1;32m      6\u001b[0m \u001b[0;31m#Metrics report\u001b[0m\u001b[0;34m\u001b[0m\u001b[0;34m\u001b[0m\u001b[0;34m\u001b[0m\u001b[0m\n\u001b[0;32m----> 7\u001b[0;31m \u001b[0mevaluate_final\u001b[0m\u001b[0;34m(\u001b[0m\u001b[0msvm_final\u001b[0m\u001b[0;34m,\u001b[0m \u001b[0mx_train\u001b[0m\u001b[0;34m,\u001b[0m \u001b[0mx_test\u001b[0m\u001b[0;34m,\u001b[0m \u001b[0my_train\u001b[0m\u001b[0;34m,\u001b[0m \u001b[0my_test\u001b[0m\u001b[0;34m)\u001b[0m\u001b[0;34m\u001b[0m\u001b[0;34m\u001b[0m\u001b[0m\n\u001b[0m",
            "\u001b[0;31mNameError\u001b[0m: name 'evaluate_final' is not defined"
          ]
        }
      ]
    },
    {
      "cell_type": "code",
      "metadata": {
        "id": "57qIRyQPqbKx",
        "colab": {
          "base_uri": "https://localhost:8080/"
        },
        "outputId": "27db3d33-5136-4eb8-f102-12d1781d055a"
      },
      "source": [
        "#FINAL TEST - KNN\n",
        "\n",
        "knn_final = KNeighborsClassifier(leaf_size=1, n_neighbors=4, p=2)\n",
        "#Fitting training set to the model\n",
        "knn_final.fit(x_train,y_train)\n",
        "#Metrics report\n",
        "evaluate_final(knn_final, x_train, x_test, y_train, y_test)"
      ],
      "execution_count": null,
      "outputs": [
        {
          "output_type": "stream",
          "name": "stdout",
          "text": [
            "TESTING RESULTS: \n",
            "===============================\n",
            "CONFUSION MATRIX:\n",
            "[[1373 4621]\n",
            " [ 257 3239]]\n",
            "ACCURACY SCORE:\n",
            "0.4860\n",
            "CLASSIFICATION REPORT:\n",
            "                     0            1  accuracy    macro avg  weighted avg\n",
            "precision     0.842331     0.412087  0.485985     0.627209      0.683834\n",
            "recall        0.229062     0.926487  0.485985     0.577775      0.485985\n",
            "f1-score      0.360178     0.570447  0.485985     0.465313      0.437639\n",
            "support    5994.000000  3496.000000  0.485985  9490.000000   9490.000000\n"
          ]
        }
      ]
    },
    {
      "cell_type": "code",
      "metadata": {
        "id": "nm4FscoQqdAr",
        "colab": {
          "base_uri": "https://localhost:8080/"
        },
        "outputId": "412b32de-5f5b-4db3-a492-956e8d55e5f6"
      },
      "source": [
        "#FINAL TEST - Voting\n",
        "\n",
        "estimators2 = []\n",
        "estimators2.append(('Logistic', lr_final))\n",
        "\n",
        "estimators2.append(('SVM', svm_final))\n",
        "\n",
        "estimators2.append(('KNN', knn_final))\n",
        "\n",
        "voting_final = VotingClassifier(estimators=estimators)\n",
        "voting_final.fit(x_train, y_train)\n",
        "\n",
        "evaluate_final(voting_final, x_train, x_test, y_train, y_test)"
      ],
      "execution_count": null,
      "outputs": [
        {
          "output_type": "stream",
          "name": "stdout",
          "text": [
            "TESTING RESULTS: \n",
            "===============================\n",
            "CONFUSION MATRIX:\n",
            "[[5411  583]\n",
            " [ 825 2671]]\n",
            "ACCURACY SCORE:\n",
            "0.8516\n",
            "CLASSIFICATION REPORT:\n",
            "                     0            1  accuracy    macro avg  weighted avg\n",
            "precision     0.867704     0.820836  0.851633     0.844270      0.850438\n",
            "recall        0.902736     0.764016  0.851633     0.833376      0.851633\n",
            "f1-score      0.884873     0.791407  0.851633     0.838140      0.850442\n",
            "support    5994.000000  3496.000000  0.851633  9490.000000   9490.000000\n"
          ]
        }
      ]
    },
    {
      "cell_type": "code",
      "metadata": {
        "colab": {
          "base_uri": "https://localhost:8080/"
        },
        "id": "r2KSpTy1F43w",
        "outputId": "647fe827-e05f-4a35-ddf7-3f5ffe15f40f"
      },
      "source": [
        "#FINAL AUC-ROC curve setup - Soft voting\n",
        "voting3 = VotingClassifier(estimators=estimators2, voting='soft')\n",
        "voting3.fit(x_train, y_train)"
      ],
      "execution_count": null,
      "outputs": [
        {
          "output_type": "execute_result",
          "data": {
            "text/plain": [
              "VotingClassifier(estimators=[('Logistic',\n",
              "                              LogisticRegression(C=10, class_weight=None,\n",
              "                                                 dual=False, fit_intercept=True,\n",
              "                                                 intercept_scaling=1,\n",
              "                                                 l1_ratio=None, max_iter=100,\n",
              "                                                 multi_class='auto',\n",
              "                                                 n_jobs=None, penalty='l2',\n",
              "                                                 random_state=None,\n",
              "                                                 solver='liblinear', tol=0.0001,\n",
              "                                                 verbose=0, warm_start=False)),\n",
              "                             ('SVM',\n",
              "                              SVC(C=100, break_ties=False, cache_size=200,\n",
              "                                  class_weight=None, co...\n",
              "                                  decision_function_shape='ovr', degree=3,\n",
              "                                  gamma=1, kernel='rbf', max_iter=-1,\n",
              "                                  probability=True, random_state=None,\n",
              "                                  shrinking=True, tol=0.001, verbose=False)),\n",
              "                             ('KNN',\n",
              "                              KNeighborsClassifier(algorithm='auto',\n",
              "                                                   leaf_size=1,\n",
              "                                                   metric='minkowski',\n",
              "                                                   metric_params=None,\n",
              "                                                   n_jobs=None, n_neighbors=4,\n",
              "                                                   p=2, weights='uniform'))],\n",
              "                 flatten_transform=True, n_jobs=None, voting='soft',\n",
              "                 weights=None)"
            ]
          },
          "metadata": {},
          "execution_count": 48
        }
      ]
    },
    {
      "cell_type": "code",
      "metadata": {
        "id": "39818nhxF69H"
      },
      "source": [
        "#FINAL AUC-ROC curve setup - Create probability prediction \n",
        "y_pred_logistic1 = lr_final.decision_function(x_test)\n",
        "y_pred_svm1 = svm_final.decision_function(x_test)\n",
        "y_pred_knn1 = knn_final.predict_proba(x_test)\n",
        "y_pred_vote1 = voting3.predict_proba(x_test)"
      ],
      "execution_count": null,
      "outputs": []
    },
    {
      "cell_type": "code",
      "metadata": {
        "colab": {
          "base_uri": "https://localhost:8080/",
          "height": 457
        },
        "id": "CcU_L6V3F-K-",
        "outputId": "d081c694-a15b-471f-fabc-3d0cb7035faf"
      },
      "source": [
        "#FINAL AUC-ROC curves\n",
        "import matplotlib.pyplot as plt\n",
        "from sklearn.metrics import roc_curve, auc\n",
        "#LR - create curve\n",
        "logistic_fpr, logistic_tpr, threshold = roc_curve(y_test, y_pred_logistic1)\n",
        "auc_logistic_final = auc(logistic_fpr, logistic_tpr)\n",
        "#SVM - create curve\n",
        "svm_fpr, svm_tpr, threshold = roc_curve(y_test, y_pred_svm1)\n",
        "auc_svm_final = auc(svm_fpr, svm_tpr)\n",
        "#KNN - create curve\n",
        "knn_fpr, knn_tpr, threshold = roc_curve(y_test, y_pred_knn1[:,1])\n",
        "auc_knn_final = auc(knn_fpr, knn_tpr)\n",
        "#Vote - create curve\n",
        "vote_fpr, vote_tpr, threshold = roc_curve(y_test, y_pred_vote1[:,1])\n",
        "auc_vote_final = auc(vote_fpr, vote_tpr)\n",
        "\n",
        "#Plot curves\n",
        "plt.figure(figsize=(5, 5), dpi=100)\n",
        "plt.plot(logistic_fpr, logistic_tpr, linestyle='-', label='Logistic (auc = %0.3f)' % auc_logistic_final)\n",
        "plt.plot(svm_fpr, svm_tpr, linestyle='-', label='SVM (auc = %0.3f)' % auc_svm_final)\n",
        "plt.plot(knn_fpr, knn_tpr, linestyle='-', label='KNN (auc = %0.3f)' % auc_knn_final)\n",
        "plt.plot(vote_fpr, vote_tpr, linestyle='-', label='Voting Ensemble (auc = %0.3f)' % auc_vote_final)\n",
        "\n",
        "#Create axes \n",
        "plt.xlabel('False Positive Rate -->')\n",
        "plt.ylabel('True Positive Rate -->')\n",
        "\n",
        "#Show legend\n",
        "plt.legend()\n",
        "\n",
        "plt.show()"
      ],
      "execution_count": null,
      "outputs": [
        {
          "output_type": "display_data",
          "data": {
            "image/png": "[encoded data removed]",
            "text/plain": [
              "<Figure size 500x500 with 1 Axes>"
            ]
          },
          "metadata": {
            "needs_background": "light"
          }
        }
      ]
    }
  ]
}