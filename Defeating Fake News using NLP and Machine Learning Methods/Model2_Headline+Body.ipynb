{
  "nbformat": 4,
  "nbformat_minor": 0,
  "metadata": {
    "colab": {
      "name": "Model2: Headline+Body.ipynb",
      "provenance": [],
      "collapsed_sections": []
    },
    "kernelspec": {
      "display_name": "Python 3",
      "name": "python3"
    },
    "language_info": {
      "name": "python"
    }
  },
  "cells": [
    {
      "cell_type": "code",
      "metadata": {
        "id": "r2XD39XMVu-j"
      },
      "source": [
        "import pandas as pd"
      ],
      "execution_count": null,
      "outputs": []
    },
    {
      "cell_type": "code",
      "metadata": {
        "id": "2GsJQVnaRD3T"
      },
      "source": [
        "#Install Kaggle API. Makes it easier to import data directly from Kaggle, instead of importing from computer\n",
        "! mkdir ~/.kaggle"
      ],
      "execution_count": null,
      "outputs": []
    },
    {
      "cell_type": "code",
      "metadata": {
        "colab": {
          "base_uri": "https://localhost:8080/"
        },
        "id": "20sxXw8qQ_5U",
        "outputId": "0334ed0e-641e-4765-a5e7-b622139a6cd6"
      },
      "source": [
        "#Install Kaggle API.\n",
        "! pip install kaggle"
      ],
      "execution_count": null,
      "outputs": [
        {
          "output_type": "stream",
          "name": "stdout",
          "text": [
            "Requirement already satisfied: kaggle in /usr/local/lib/python3.7/dist-packages (1.5.12)\n",
            "Requirement already satisfied: requests in /usr/local/lib/python3.7/dist-packages (from kaggle) (2.23.0)\n",
            "Requirement already satisfied: certifi in /usr/local/lib/python3.7/dist-packages (from kaggle) (2021.5.30)\n",
            "Requirement already satisfied: tqdm in /usr/local/lib/python3.7/dist-packages (from kaggle) (4.62.3)\n",
            "Requirement already satisfied: urllib3 in /usr/local/lib/python3.7/dist-packages (from kaggle) (1.24.3)\n",
            "Requirement already satisfied: six>=1.10 in /usr/local/lib/python3.7/dist-packages (from kaggle) (1.15.0)\n",
            "Requirement already satisfied: python-dateutil in /usr/local/lib/python3.7/dist-packages (from kaggle) (2.8.2)\n",
            "Requirement already satisfied: python-slugify in /usr/local/lib/python3.7/dist-packages (from kaggle) (5.0.2)\n",
            "Requirement already satisfied: text-unidecode>=1.3 in /usr/local/lib/python3.7/dist-packages (from python-slugify->kaggle) (1.3)\n",
            "Requirement already satisfied: idna<3,>=2.5 in /usr/local/lib/python3.7/dist-packages (from requests->kaggle) (2.10)\n",
            "Requirement already satisfied: chardet<4,>=3.0.2 in /usr/local/lib/python3.7/dist-packages (from requests->kaggle) (3.0.4)\n"
          ]
        }
      ]
    },
    {
      "cell_type": "code",
      "metadata": {
        "id": "qHKkfv53RH94"
      },
      "source": [
        "#Install Kaggle API. Need kaggle.json file. Instructions: https://www.kaggle.com/general/74235\n",
        "! cp kaggle.json ~/.kaggle/"
      ],
      "execution_count": null,
      "outputs": []
    },
    {
      "cell_type": "code",
      "metadata": {
        "id": "G_95mPVARKi9"
      },
      "source": [
        "#Install Kaggle API.\n",
        "! chmod 600 ~/.kaggle/kaggle.json"
      ],
      "execution_count": null,
      "outputs": []
    },
    {
      "cell_type": "code",
      "metadata": {
        "colab": {
          "base_uri": "https://localhost:8080/"
        },
        "id": "I_FijbNeReif",
        "outputId": "dabeda1d-53f9-4f54-d94e-fe46b6869af6"
      },
      "source": [
        "#Download Kaggle1 directly from Kaggle.com\n",
        "! kaggle competitions download -c fake-news"
      ],
      "execution_count": null,
      "outputs": [
        {
          "output_type": "stream",
          "name": "stdout",
          "text": [
            "Warning: Looks like you're using an outdated API Version, please consider updating (server 1.5.12 / client 1.5.4)\n",
            "Downloading train.csv.zip to /content\n",
            " 62% 23.0M/37.0M [00:01<00:01, 10.3MB/s]\n",
            "100% 37.0M/37.0M [00:01<00:00, 21.4MB/s]\n",
            "Downloading test.csv.zip to /content\n",
            " 53% 5.00M/9.42M [00:00<00:00, 14.4MB/s]\n",
            "100% 9.42M/9.42M [00:00<00:00, 22.9MB/s]\n",
            "Downloading submit.csv to /content\n",
            "  0% 0.00/40.6k [00:00<?, ?B/s]\n",
            "100% 40.6k/40.6k [00:00<00:00, 39.9MB/s]\n"
          ]
        }
      ]
    },
    {
      "cell_type": "code",
      "metadata": {
        "colab": {
          "base_uri": "https://localhost:8080/"
        },
        "id": "Xbi4t-d9GNAV",
        "outputId": "43d7ac34-79a4-4485-8ff8-1368e010f495"
      },
      "source": [
        "#Download Kaggle2 directly from Kaggle.com\n",
        "! kaggle datasets download jruvika/fake-news-detection"
      ],
      "execution_count": null,
      "outputs": [
        {
          "output_type": "stream",
          "name": "stdout",
          "text": [
            "Downloading fake-news-detection.zip to /content\n",
            "100% 4.89M/4.89M [00:00<00:00, 18.4MB/s]\n",
            "\n"
          ]
        }
      ]
    },
    {
      "cell_type": "code",
      "metadata": {
        "colab": {
          "base_uri": "https://localhost:8080/"
        },
        "id": "hJUPc1v5aaWq",
        "outputId": "3753bf63-27d6-4586-8761-38fcdeb232fc"
      },
      "source": [
        "#Unzip Kaggle 1 folder\n",
        "!unzip /content/train.csv.zip"
      ],
      "execution_count": null,
      "outputs": [
        {
          "output_type": "stream",
          "name": "stdout",
          "text": [
            "Archive:  /content/train.csv.zip\n",
            "  inflating: train.csv               \n"
          ]
        }
      ]
    },
    {
      "cell_type": "code",
      "metadata": {
        "colab": {
          "base_uri": "https://localhost:8080/"
        },
        "id": "ygN6hJlBRu3o",
        "outputId": "ad8b4e5a-6945-4b00-eb58-f9ceb43933c7"
      },
      "source": [
        "#Unzip Kaggle 2 folder\n",
        "!unzip /content/fake-news-detection.zip"
      ],
      "execution_count": null,
      "outputs": [
        {
          "output_type": "stream",
          "name": "stdout",
          "text": [
            "Archive:  /content/fake-news-detection.zip\n",
            "  inflating: data.csv                \n",
            "  inflating: data.h5                 \n"
          ]
        }
      ]
    },
    {
      "cell_type": "code",
      "metadata": {
        "colab": {
          "base_uri": "https://localhost:8080/"
        },
        "id": "eGn4p_mdSP9J",
        "outputId": "31a53dbe-6213-4e3a-beca-2e421375c8d6"
      },
      "source": [
        "#Import both Kaggle1+2\n",
        "kaggle2 = pd.read_csv(\"data.csv\")\n",
        "kaggle1 = pd.read_csv(\"train.csv\")\n",
        "kaggle1.info()\n",
        "kaggle2.info()"
      ],
      "execution_count": null,
      "outputs": [
        {
          "output_type": "stream",
          "name": "stdout",
          "text": [
            "<class 'pandas.core.frame.DataFrame'>\n",
            "RangeIndex: 20800 entries, 0 to 20799\n",
            "Data columns (total 5 columns):\n",
            " #   Column  Non-Null Count  Dtype \n",
            "---  ------  --------------  ----- \n",
            " 0   id      20800 non-null  int64 \n",
            " 1   title   20242 non-null  object\n",
            " 2   author  18843 non-null  object\n",
            " 3   text    20761 non-null  object\n",
            " 4   label   20800 non-null  int64 \n",
            "dtypes: int64(2), object(3)\n",
            "memory usage: 812.6+ KB\n",
            "<class 'pandas.core.frame.DataFrame'>\n",
            "RangeIndex: 4009 entries, 0 to 4008\n",
            "Data columns (total 4 columns):\n",
            " #   Column    Non-Null Count  Dtype \n",
            "---  ------    --------------  ----- \n",
            " 0   URLs      4009 non-null   object\n",
            " 1   Headline  4009 non-null   object\n",
            " 2   Body      3988 non-null   object\n",
            " 3   Label     4009 non-null   int64 \n",
            "dtypes: int64(1), object(3)\n",
            "memory usage: 125.4+ KB\n"
          ]
        }
      ]
    },
    {
      "cell_type": "code",
      "metadata": {
        "id": "8Cka2IMNYKYb"
      },
      "source": [
        "#Copy datasets - so I still retain the original dataset, and can refer back to the original if needed\n",
        "df_kag1 = kaggle1.copy()\n",
        "df_kag2 = kaggle2.copy()"
      ],
      "execution_count": null,
      "outputs": []
    },
    {
      "cell_type": "code",
      "metadata": {
        "colab": {
          "base_uri": "https://localhost:8080/"
        },
        "id": "28QpUFWgwuLW",
        "outputId": "467ec7f2-a971-4ab9-9bb7-dd16c134e4af"
      },
      "source": [
        "#Change column names for Kaggle2\n",
        "df_kag2 = df_kag2.rename(columns={'Headline':'title','Label':'label', 'Body':'text'})\n",
        "df_kag2.info()"
      ],
      "execution_count": null,
      "outputs": [
        {
          "output_type": "stream",
          "name": "stdout",
          "text": [
            "<class 'pandas.core.frame.DataFrame'>\n",
            "RangeIndex: 4009 entries, 0 to 4008\n",
            "Data columns (total 4 columns):\n",
            " #   Column  Non-Null Count  Dtype \n",
            "---  ------  --------------  ----- \n",
            " 0   URLs    4009 non-null   object\n",
            " 1   title   4009 non-null   object\n",
            " 2   text    3988 non-null   object\n",
            " 3   label   4009 non-null   int64 \n",
            "dtypes: int64(1), object(3)\n",
            "memory usage: 125.4+ KB\n"
          ]
        }
      ]
    },
    {
      "cell_type": "code",
      "metadata": {
        "colab": {
          "base_uri": "https://localhost:8080/"
        },
        "id": "imZvTFRsxfG0",
        "outputId": "71c27c16-1baa-4b2f-ecb2-a6defa73a611"
      },
      "source": [
        "#Remove nulls from 'title' in Kaggle1\n",
        "df_kag1 = df_kag1[df_kag1['title'].notna()]\n",
        "df_kag1.info()"
      ],
      "execution_count": null,
      "outputs": [
        {
          "output_type": "stream",
          "name": "stdout",
          "text": [
            "<class 'pandas.core.frame.DataFrame'>\n",
            "Int64Index: 20242 entries, 0 to 20799\n",
            "Data columns (total 5 columns):\n",
            " #   Column  Non-Null Count  Dtype \n",
            "---  ------  --------------  ----- \n",
            " 0   id      20242 non-null  int64 \n",
            " 1   title   20242 non-null  object\n",
            " 2   author  18285 non-null  object\n",
            " 3   text    20203 non-null  object\n",
            " 4   label   20242 non-null  int64 \n",
            "dtypes: int64(2), object(3)\n",
            "memory usage: 948.8+ KB\n"
          ]
        }
      ]
    },
    {
      "cell_type": "code",
      "metadata": {
        "colab": {
          "base_uri": "https://localhost:8080/"
        },
        "id": "_oCy6CzdZJsS",
        "outputId": "ac5a8caa-0c8f-4362-931f-2885d363c134"
      },
      "source": [
        "#Merge datasets\n",
        "df_union1 = pd.concat([df_kag1, \n",
        "                       df_kag2], ignore_index=True)\n",
        "df_union1.info()"
      ],
      "execution_count": null,
      "outputs": [
        {
          "output_type": "stream",
          "name": "stdout",
          "text": [
            "<class 'pandas.core.frame.DataFrame'>\n",
            "RangeIndex: 24251 entries, 0 to 24250\n",
            "Data columns (total 6 columns):\n",
            " #   Column  Non-Null Count  Dtype  \n",
            "---  ------  --------------  -----  \n",
            " 0   id      20242 non-null  float64\n",
            " 1   title   24251 non-null  object \n",
            " 2   author  18285 non-null  object \n",
            " 3   text    24191 non-null  object \n",
            " 4   label   24251 non-null  int64  \n",
            " 5   URLs    4009 non-null   object \n",
            "dtypes: float64(1), int64(1), object(4)\n",
            "memory usage: 1.1+ MB\n"
          ]
        }
      ]
    },
    {
      "cell_type": "code",
      "metadata": {
        "colab": {
          "base_uri": "https://localhost:8080/"
        },
        "id": "-3mTNMkqY4yq",
        "outputId": "82cc2ff0-414f-436e-88f1-5b160fa928b7"
      },
      "source": [
        "#Drop features not being used: 'news_url','tweet_ids','author','text','URLs','Body'\n",
        "features_dropped = ['URLs']\n",
        "df_union1 = df_union1.drop(features_dropped, axis=1)\n",
        "df_union1.info()"
      ],
      "execution_count": null,
      "outputs": [
        {
          "output_type": "stream",
          "name": "stdout",
          "text": [
            "<class 'pandas.core.frame.DataFrame'>\n",
            "RangeIndex: 24251 entries, 0 to 24250\n",
            "Data columns (total 5 columns):\n",
            " #   Column  Non-Null Count  Dtype  \n",
            "---  ------  --------------  -----  \n",
            " 0   id      20242 non-null  float64\n",
            " 1   title   24251 non-null  object \n",
            " 2   author  18285 non-null  object \n",
            " 3   text    24191 non-null  object \n",
            " 4   label   24251 non-null  int64  \n",
            "dtypes: float64(1), int64(1), object(3)\n",
            "memory usage: 947.4+ KB\n"
          ]
        }
      ]
    },
    {
      "cell_type": "code",
      "metadata": {
        "colab": {
          "base_uri": "https://localhost:8080/"
        },
        "id": "SkFMVpqKBMUB",
        "outputId": "efd7b987-6bc0-427f-b1b6-0f26cf33a262"
      },
      "source": [
        "#Check duplicates - no duplicates\n",
        "df_union1.shape , df_union1.drop_duplicates().shape"
      ],
      "execution_count": null,
      "outputs": [
        {
          "output_type": "execute_result",
          "data": {
            "text/plain": [
              "((24251, 6), (24251, 6))"
            ]
          },
          "metadata": {},
          "execution_count": 23
        }
      ]
    },
    {
      "cell_type": "code",
      "metadata": {
        "id": "Mp9CYkcoy3IM",
        "colab": {
          "base_uri": "https://localhost:8080/"
        },
        "outputId": "33fcc290-8980-4235-c4ea-d20c79fd7802"
      },
      "source": [
        "#Merge 'title' and 'text' to create 'total' \n",
        "df_union1['total']=df_union1['title']+' '+df_union1['text']\n",
        "df_union1.shape"
      ],
      "execution_count": null,
      "outputs": [
        {
          "output_type": "execute_result",
          "data": {
            "text/plain": [
              "(24251, 7)"
            ]
          },
          "metadata": {},
          "execution_count": 25
        }
      ]
    },
    {
      "cell_type": "code",
      "metadata": {
        "id": "M2AbRNXC0Uuo"
      },
      "source": [
        "#Convert 'total' to a string\n",
        "df_union1['total']=df_union1['total'].apply(str)"
      ],
      "execution_count": null,
      "outputs": []
    },
    {
      "cell_type": "code",
      "metadata": {
        "colab": {
          "base_uri": "https://localhost:8080/"
        },
        "id": "uBJ6kimNcBaT",
        "outputId": "fecf0e8b-6db1-4754-9792-dbc2d739d8a0"
      },
      "source": [
        "#Import NLTK libraries. Used for data preprocessing.\n",
        "import nltk\n",
        "nltk.download('stopwords')\n",
        "from nltk.corpus import stopwords\n",
        "from nltk.stem.porter import PorterStemmer\n",
        "import re"
      ],
      "execution_count": null,
      "outputs": [
        {
          "output_type": "stream",
          "name": "stdout",
          "text": [
            "[nltk_data] Downloading package stopwords to /root/nltk_data...\n",
            "[nltk_data]   Unzipping corpora/stopwords.zip.\n"
          ]
        }
      ]
    },
    {
      "cell_type": "code",
      "metadata": {
        "id": "fsxmm2qO5HaL"
      },
      "source": [
        "#Data preprocessing: stop words, tokenize, stemming\n",
        "ps = PorterStemmer()\n",
        "def stop_stem(text):\n",
        "    text = re.sub('[^a-zA-Z]', ' ',text) #SYMBOLS: this basically replaces everything other than lower a-z & upper A-Z with a ' ', for eg apple,bananna --> apple bananna\n",
        "    text = text.lower() #LOWERCASE\n",
        "    text = text.split() #TOKENIZE: .split() splits the line into words with delimiter as ' '\n",
        "    text = [ps.stem(word) for word in text if not word in stopwords.words('english')] #STEM: basically remove all the stopwords and apply stemming to the final data\n",
        "    text = ' '.join(text) # this basically joins back and returns the cleaned sentence\n",
        "    return text"
      ],
      "execution_count": null,
      "outputs": []
    },
    {
      "cell_type": "code",
      "metadata": {
        "colab": {
          "base_uri": "https://localhost:8080/"
        },
        "id": "LEGXzpGKeRvk",
        "outputId": "d6fa03d7-fb11-4c50-f822-37e9c9d24203"
      },
      "source": [
        "print(stopwords.words('english'))"
      ],
      "execution_count": null,
      "outputs": [
        {
          "output_type": "stream",
          "name": "stdout",
          "text": [
            "['i', 'me', 'my', 'myself', 'we', 'our', 'ours', 'ourselves', 'you', \"you're\", \"you've\", \"you'll\", \"you'd\", 'your', 'yours', 'yourself', 'yourselves', 'he', 'him', 'his', 'himself', 'she', \"she's\", 'her', 'hers', 'herself', 'it', \"it's\", 'its', 'itself', 'they', 'them', 'their', 'theirs', 'themselves', 'what', 'which', 'who', 'whom', 'this', 'that', \"that'll\", 'these', 'those', 'am', 'is', 'are', 'was', 'were', 'be', 'been', 'being', 'have', 'has', 'had', 'having', 'do', 'does', 'did', 'doing', 'a', 'an', 'the', 'and', 'but', 'if', 'or', 'because', 'as', 'until', 'while', 'of', 'at', 'by', 'for', 'with', 'about', 'against', 'between', 'into', 'through', 'during', 'before', 'after', 'above', 'below', 'to', 'from', 'up', 'down', 'in', 'out', 'on', 'off', 'over', 'under', 'again', 'further', 'then', 'once', 'here', 'there', 'when', 'where', 'why', 'how', 'all', 'any', 'both', 'each', 'few', 'more', 'most', 'other', 'some', 'such', 'no', 'nor', 'not', 'only', 'own', 'same', 'so', 'than', 'too', 'very', 's', 't', 'can', 'will', 'just', 'don', \"don't\", 'should', \"should've\", 'now', 'd', 'll', 'm', 'o', 're', 've', 'y', 'ain', 'aren', \"aren't\", 'couldn', \"couldn't\", 'didn', \"didn't\", 'doesn', \"doesn't\", 'hadn', \"hadn't\", 'hasn', \"hasn't\", 'haven', \"haven't\", 'isn', \"isn't\", 'ma', 'mightn', \"mightn't\", 'mustn', \"mustn't\", 'needn', \"needn't\", 'shan', \"shan't\", 'shouldn', \"shouldn't\", 'wasn', \"wasn't\", 'weren', \"weren't\", 'won', \"won't\", 'wouldn', \"wouldn't\"]\n"
          ]
        }
      ]
    },
    {
      "cell_type": "code",
      "metadata": {
        "id": "cO81Of1QerCr"
      },
      "source": [
        "#Apply stop words, tokenization, stemming\n",
        "df_union1['total'] = df_union1['total'].apply(stop_stem)"
      ],
      "execution_count": null,
      "outputs": []
    },
    {
      "cell_type": "code",
      "metadata": {
        "colab": {
          "base_uri": "https://localhost:8080/",
          "height": 221
        },
        "id": "Y0ASxtJoe6jF",
        "outputId": "7e0c6346-f720-4a00-a8fd-999f4d2f4c87"
      },
      "source": [
        "#Data After Preprocessing\n",
        "df_union1.head()"
      ],
      "execution_count": null,
      "outputs": [
        {
          "output_type": "execute_result",
          "data": {
            "text/html": [
              "<div>\n",
              "<style scoped>\n",
              "    .dataframe tbody tr th:only-of-type {\n",
              "        vertical-align: middle;\n",
              "    }\n",
              "\n",
              "    .dataframe tbody tr th {\n",
              "        vertical-align: top;\n",
              "    }\n",
              "\n",
              "    .dataframe thead th {\n",
              "        text-align: right;\n",
              "    }\n",
              "</style>\n",
              "<table border=\"1\" class=\"dataframe\">\n",
              "  <thead>\n",
              "    <tr style=\"text-align: right;\">\n",
              "      <th></th>\n",
              "      <th>id</th>\n",
              "      <th>title</th>\n",
              "      <th>author</th>\n",
              "      <th>text</th>\n",
              "      <th>label</th>\n",
              "      <th>URLs</th>\n",
              "      <th>total</th>\n",
              "    </tr>\n",
              "  </thead>\n",
              "  <tbody>\n",
              "    <tr>\n",
              "      <th>0</th>\n",
              "      <td>0.0</td>\n",
              "      <td>House Dem Aide: We Didn’t Even See Comey’s Let...</td>\n",
              "      <td>Darrell Lucus</td>\n",
              "      <td>House Dem Aide: We Didn’t Even See Comey’s Let...</td>\n",
              "      <td>1</td>\n",
              "      <td>NaN</td>\n",
              "      <td>hous dem aid even see comey letter jason chaff...</td>\n",
              "    </tr>\n",
              "    <tr>\n",
              "      <th>1</th>\n",
              "      <td>1.0</td>\n",
              "      <td>FLYNN: Hillary Clinton, Big Woman on Campus - ...</td>\n",
              "      <td>Daniel J. Flynn</td>\n",
              "      <td>Ever get the feeling your life circles the rou...</td>\n",
              "      <td>0</td>\n",
              "      <td>NaN</td>\n",
              "      <td>flynn hillari clinton big woman campu breitbar...</td>\n",
              "    </tr>\n",
              "    <tr>\n",
              "      <th>2</th>\n",
              "      <td>2.0</td>\n",
              "      <td>Why the Truth Might Get You Fired</td>\n",
              "      <td>Consortiumnews.com</td>\n",
              "      <td>Why the Truth Might Get You Fired October 29, ...</td>\n",
              "      <td>1</td>\n",
              "      <td>NaN</td>\n",
              "      <td>truth might get fire truth might get fire octo...</td>\n",
              "    </tr>\n",
              "    <tr>\n",
              "      <th>3</th>\n",
              "      <td>3.0</td>\n",
              "      <td>15 Civilians Killed In Single US Airstrike Hav...</td>\n",
              "      <td>Jessica Purkiss</td>\n",
              "      <td>Videos 15 Civilians Killed In Single US Airstr...</td>\n",
              "      <td>1</td>\n",
              "      <td>NaN</td>\n",
              "      <td>civilian kill singl us airstrik identifi video...</td>\n",
              "    </tr>\n",
              "    <tr>\n",
              "      <th>4</th>\n",
              "      <td>4.0</td>\n",
              "      <td>Iranian woman jailed for fictional unpublished...</td>\n",
              "      <td>Howard Portnoy</td>\n",
              "      <td>Print \\nAn Iranian woman has been sentenced to...</td>\n",
              "      <td>1</td>\n",
              "      <td>NaN</td>\n",
              "      <td>iranian woman jail fiction unpublish stori wom...</td>\n",
              "    </tr>\n",
              "  </tbody>\n",
              "</table>\n",
              "</div>"
            ],
            "text/plain": [
              "    id  ...                                              total\n",
              "0  0.0  ...  hous dem aid even see comey letter jason chaff...\n",
              "1  1.0  ...  flynn hillari clinton big woman campu breitbar...\n",
              "2  2.0  ...  truth might get fire truth might get fire octo...\n",
              "3  3.0  ...  civilian kill singl us airstrik identifi video...\n",
              "4  4.0  ...  iranian woman jail fiction unpublish stori wom...\n",
              "\n",
              "[5 rows x 7 columns]"
            ]
          },
          "metadata": {},
          "execution_count": 34
        }
      ]
    },
    {
      "cell_type": "code",
      "metadata": {
        "id": "B7-q77w25ybN"
      },
      "source": [
        "#Independent variable: 'title'; Dependent variable: 'label'\n",
        "X = df_union1['total']\n",
        "Y = df_union1['label']"
      ],
      "execution_count": null,
      "outputs": []
    },
    {
      "cell_type": "code",
      "metadata": {
        "colab": {
          "base_uri": "https://localhost:8080/"
        },
        "id": "5beybYyr5zuJ",
        "outputId": "14353f1d-1edb-4e36-ff63-04149d421f7e"
      },
      "source": [
        "# TF-IDF\n",
        "from sklearn.feature_extraction.text import TfidfVectorizer\n",
        "tfidf_vectorizer = TfidfVectorizer(ngram_range=(2,2), max_features=10000)\n",
        "X = tfidf_vectorizer.fit_transform(df_union1['total'])\n",
        "X.shape"
      ],
      "execution_count": null,
      "outputs": [
        {
          "output_type": "execute_result",
          "data": {
            "text/plain": [
              "(24251, 10000)"
            ]
          },
          "metadata": {},
          "execution_count": 37
        }
      ]
    },
    {
      "cell_type": "code",
      "metadata": {
        "id": "8uRA7xjW51Y0"
      },
      "source": [
        "#Split the entire dataset into training and test set, 80:20\n",
        "from sklearn.model_selection import train_test_split\n",
        "x_train, x_test, y_train, y_test = train_test_split(X, Y, test_size=0.2, random_state=1)"
      ],
      "execution_count": null,
      "outputs": []
    },
    {
      "cell_type": "code",
      "metadata": {
        "id": "HIFoknQc53ua"
      },
      "source": [
        "#Split the training set into training2 and validation, 70:30\n",
        "x_train2, x_val, y_train2, y_val = train_test_split(x_train, y_train, test_size=0.3, random_state=1)"
      ],
      "execution_count": null,
      "outputs": []
    },
    {
      "cell_type": "code",
      "metadata": {
        "id": "wGlKsfqThZES"
      },
      "source": [
        "#Create metrics table for VALIDATION set. \n",
        "#Training Set Results: Shows how well model performs on the training data. Initial test for the model to get a feel for the data. \n",
        "#Validation Set Results: More important - shows how generalizable the data is. This is reflective of how the model will perform in the wild. \n",
        "from sklearn.metrics import confusion_matrix, accuracy_score, classification_report\n",
        "\n",
        "def evaluate1(model, x_train2, x_val, y_train, y_val):\n",
        "    y_train_pred = model.predict(x_train2)\n",
        "    y_test_pred = model.predict(x_val)\n",
        "\n",
        "    print(\"TRAINING RESULTS: \\n===============================\")\n",
        "    clf_report = pd.DataFrame(classification_report(y_train, y_train_pred, output_dict=True))\n",
        "    print(f\"CONFUSION MATRIX:\\n{confusion_matrix(y_train, y_train_pred)}\")\n",
        "    print(f\"ACCURACY SCORE:\\n{accuracy_score(y_train, y_train_pred):.4f}\")\n",
        "    print(f\"CLASSIFICATION REPORT:\\n{clf_report}\")\n",
        "\n",
        "    print(\"VALIDATION SET RESULTS: \\n===============================\")\n",
        "    clf_report = pd.DataFrame(classification_report(y_val, y_test_pred, output_dict=True))\n",
        "    print(f\"CONFUSION MATRIX:\\n{confusion_matrix(y_val, y_test_pred)}\")\n",
        "    print(f\"ACCURACY SCORE:\\n{accuracy_score(y_val, y_test_pred):.4f}\")\n",
        "    print(f\"CLASSIFICATION REPORT:\\n{clf_report}\")"
      ],
      "execution_count": null,
      "outputs": []
    },
    {
      "cell_type": "code",
      "metadata": {
        "colab": {
          "base_uri": "https://localhost:8080/"
        },
        "id": "foBY5p3s54uF",
        "outputId": "d4f96811-bfc3-4ada-a307-25f3d30fc98f"
      },
      "source": [
        "#Logistic Regression - Train-Validate\n",
        "from sklearn.linear_model import LogisticRegression\n",
        "from sklearn.metrics import classification_report\n",
        "lr = LogisticRegression()\n",
        "#Fitting training set to the model\n",
        "lr.fit(x_train2,y_train2)\n",
        "#Metrics report\n",
        "evaluate1(lr, x_train2, x_val, y_train2, y_val)"
      ],
      "execution_count": null,
      "outputs": [
        {
          "output_type": "stream",
          "name": "stdout",
          "text": [
            "TRAINING RESULTS: \n",
            "===============================\n",
            "CONFUSION MATRIX:\n",
            "[[6701  320]\n",
            " [ 181 6378]]\n",
            "ACCURACY SCORE:\n",
            "0.9631\n",
            "CLASSIFICATION REPORT:\n",
            "                     0            1  accuracy     macro avg  weighted avg\n",
            "precision     0.973700     0.952225  0.963108      0.962962      0.963327\n",
            "recall        0.954422     0.972404  0.963108      0.963413      0.963108\n",
            "f1-score      0.963965     0.962209  0.963108      0.963087      0.963116\n",
            "support    7021.000000  6559.000000  0.963108  13580.000000  13580.000000\n",
            "VALIDATION SET RESULTS: \n",
            "===============================\n",
            "CONFUSION MATRIX:\n",
            "[[2806  194]\n",
            " [ 164 2656]]\n",
            "ACCURACY SCORE:\n",
            "0.9385\n",
            "CLASSIFICATION REPORT:\n",
            "                     0            1  accuracy    macro avg  weighted avg\n",
            "precision     0.944781     0.931930  0.938488     0.938355      0.938554\n",
            "recall        0.935333     0.941844  0.938488     0.938589      0.938488\n",
            "f1-score      0.940034     0.936861  0.938488     0.938447      0.938496\n",
            "support    3000.000000  2820.000000  0.938488  5820.000000   5820.000000\n"
          ]
        }
      ]
    },
    {
      "cell_type": "code",
      "metadata": {
        "colab": {
          "base_uri": "https://localhost:8080/"
        },
        "id": "FG2sAZyB56IC",
        "outputId": "dfdb5efb-e9ec-484e-f6f5-c782cce207db"
      },
      "source": [
        "#Support Vector Machine - Train-Validate\n",
        "from sklearn import svm\n",
        "svm = svm.SVC()\n",
        "#Fitting training set to the model\n",
        "svm.fit(x_train2,y_train2)\n",
        "#Metrics report\n",
        "evaluate1(svm, x_train2, x_val, y_train2, y_val)"
      ],
      "execution_count": null,
      "outputs": [
        {
          "output_type": "stream",
          "name": "stdout",
          "text": [
            "TRAINING RESULTS: \n",
            "===============================\n",
            "CONFUSION MATRIX:\n",
            "[[6983   38]\n",
            " [  36 6523]]\n",
            "ACCURACY SCORE:\n",
            "0.9946\n",
            "CLASSIFICATION REPORT:\n",
            "                     0            1  accuracy     macro avg  weighted avg\n",
            "precision     0.994871     0.994208  0.994551      0.994540      0.994551\n",
            "recall        0.994588     0.994511  0.994551      0.994550      0.994551\n",
            "f1-score      0.994729     0.994360  0.994551      0.994545      0.994551\n",
            "support    7021.000000  6559.000000  0.994551  13580.000000  13580.000000\n",
            "VALIDATION SET RESULTS: \n",
            "===============================\n",
            "CONFUSION MATRIX:\n",
            "[[2816  184]\n",
            " [ 134 2686]]\n",
            "ACCURACY SCORE:\n",
            "0.9454\n",
            "CLASSIFICATION REPORT:\n",
            "                     0            1  accuracy    macro avg  weighted avg\n",
            "precision     0.954576     0.935889  0.945361     0.945232      0.945521\n",
            "recall        0.938667     0.952482  0.945361     0.945574      0.945361\n",
            "f1-score      0.946555     0.944112  0.945361     0.945334      0.945371\n",
            "support    3000.000000  2820.000000  0.945361  5820.000000   5820.000000\n"
          ]
        }
      ]
    },
    {
      "cell_type": "code",
      "metadata": {
        "colab": {
          "base_uri": "https://localhost:8080/"
        },
        "id": "aGvJRizV560J",
        "outputId": "cd020b6b-44ae-4c5c-b7c0-81ee17ef814f"
      },
      "source": [
        "#K-Nearest Neighbors - Train-Validate\n",
        "from sklearn.neighbors import KNeighborsClassifier\n",
        "knn = KNeighborsClassifier(n_neighbors=4)\n",
        "#Fitting training set to the model\n",
        "knn.fit(x_train2,y_train2)\n",
        "#Metrics report\n",
        "evaluate1(knn, x_train2, x_val, y_train2, y_val)"
      ],
      "execution_count": null,
      "outputs": [
        {
          "output_type": "stream",
          "name": "stdout",
          "text": [
            "TRAINING RESULTS: \n",
            "===============================\n",
            "CONFUSION MATRIX:\n",
            "[[3450 3571]\n",
            " [ 170 6389]]\n",
            "ACCURACY SCORE:\n",
            "0.7245\n",
            "CLASSIFICATION REPORT:\n",
            "                     0            1  accuracy     macro avg  weighted avg\n",
            "precision     0.953039     0.641466  0.724521      0.797252      0.802552\n",
            "recall        0.491383     0.974081  0.724521      0.732732      0.724521\n",
            "f1-score      0.648435     0.773534  0.724521      0.710984      0.708856\n",
            "support    7021.000000  6559.000000  0.724521  13580.000000  13580.000000\n",
            "VALIDATION SET RESULTS: \n",
            "===============================\n",
            "CONFUSION MATRIX:\n",
            "[[ 951 2049]\n",
            " [  92 2728]]\n",
            "ACCURACY SCORE:\n",
            "0.6321\n",
            "CLASSIFICATION REPORT:\n",
            "                     0            1  accuracy    macro avg  weighted avg\n",
            "precision     0.911793     0.571070  0.632131     0.741431      0.746700\n",
            "recall        0.317000     0.967376  0.632131     0.642188      0.632131\n",
            "f1-score      0.470443     0.718178  0.632131     0.594310      0.590480\n",
            "support    3000.000000  2820.000000  0.632131  5820.000000   5820.000000\n"
          ]
        }
      ]
    },
    {
      "cell_type": "code",
      "metadata": {
        "colab": {
          "base_uri": "https://localhost:8080/"
        },
        "id": "eH_dAR3ogQae",
        "outputId": "181344db-8a1e-4a78-b88c-a46f54e485f7"
      },
      "source": [
        "#Voting ensemble - Train-Validate\n",
        "from sklearn.ensemble import VotingClassifier\n",
        "\n",
        "estimators = []\n",
        "estimators.append(('Logistic', lr))\n",
        "\n",
        "estimators.append(('SVM', svm))\n",
        "\n",
        "estimators.append(('KNN', knn))\n",
        "\n",
        "voting = VotingClassifier(estimators=estimators)\n",
        "voting.fit(x_train2, y_train2)\n",
        "\n",
        "evaluate1(voting, x_train2, x_val, y_train2, y_val)"
      ],
      "execution_count": null,
      "outputs": [
        {
          "output_type": "stream",
          "name": "stdout",
          "text": [
            "TRAINING RESULTS: \n",
            "===============================\n",
            "CONFUSION MATRIX:\n",
            "[[6779  242]\n",
            " [  56 6503]]\n",
            "ACCURACY SCORE:\n",
            "0.9781\n",
            "CLASSIFICATION REPORT:\n",
            "                     0            1  accuracy     macro avg  weighted avg\n",
            "precision     0.991807     0.964122  0.978056      0.977964      0.978435\n",
            "recall        0.965532     0.991462  0.978056      0.978497      0.978056\n",
            "f1-score      0.978493     0.977601  0.978056      0.978047      0.978062\n",
            "support    7021.000000  6559.000000  0.978056  13580.000000  13580.000000\n",
            "VALIDATION SET RESULTS: \n",
            "===============================\n",
            "CONFUSION MATRIX:\n",
            "[[2792  208]\n",
            " [ 131 2689]]\n",
            "ACCURACY SCORE:\n",
            "0.9418\n",
            "CLASSIFICATION REPORT:\n",
            "                     0            1  accuracy    macro avg  weighted avg\n",
            "precision     0.955183     0.928202  0.941753     0.941692      0.942110\n",
            "recall        0.930667     0.953546  0.941753     0.942106      0.941753\n",
            "f1-score      0.942765     0.940703  0.941753     0.941734      0.941766\n",
            "support    3000.000000  2820.000000  0.941753  5820.000000   5820.000000\n"
          ]
        }
      ]
    },
    {
      "cell_type": "code",
      "metadata": {
        "id": "_R8qc3JFIsjS"
      },
      "source": [
        "#Parameter tuning - GridSearchCV\n",
        "from sklearn.model_selection import GridSearchCV"
      ],
      "execution_count": null,
      "outputs": []
    },
    {
      "cell_type": "code",
      "metadata": {
        "id": "HsNI0QBR6Fjw"
      },
      "source": [
        "#Logistic Regression - hyperparameter options\n",
        "lr_param = {  \n",
        "  'solver':['liblinear'],\n",
        "  'C': [0.001,0.01,0.1,1,10,100],\n",
        "  'penalty': ['l1','l2']\n",
        "}"
      ],
      "execution_count": null,
      "outputs": []
    },
    {
      "cell_type": "code",
      "metadata": {
        "colab": {
          "base_uri": "https://localhost:8080/"
        },
        "id": "PpOeEBwr66B0",
        "outputId": "87d7d43f-a26e-4719-88a1-15f9cd7c4bde"
      },
      "source": [
        "#Logistic Regression - optimal parameters\n",
        "lr_grid = GridSearchCV(lr,lr_param)\n",
        "lr_grid.fit(x_train2,y_train2)\n",
        "lr_grid.best_estimator_"
      ],
      "execution_count": null,
      "outputs": [
        {
          "output_type": "execute_result",
          "data": {
            "text/plain": [
              "LogisticRegression(C=10, class_weight=None, dual=False, fit_intercept=True,\n",
              "                   intercept_scaling=1, l1_ratio=None, max_iter=100,\n",
              "                   multi_class='auto', n_jobs=None, penalty='l1',\n",
              "                   random_state=None, solver='liblinear', tol=0.0001, verbose=0,\n",
              "                   warm_start=False)"
            ]
          },
          "metadata": {},
          "execution_count": 36
        }
      ]
    },
    {
      "cell_type": "code",
      "metadata": {
        "id": "SYkvJvS56JkO"
      },
      "source": [
        "#SVM - hyperparameter options\n",
        "svm_param = {\n",
        "  'C': [0.1, 1, 10, 100, 1000], \n",
        "  'gamma': [1, 0.1, 0.01, 0.001],\n",
        "  'kernel': ['rbf']\n",
        "}"
      ],
      "execution_count": null,
      "outputs": []
    },
    {
      "cell_type": "code",
      "metadata": {
        "id": "Ba2ec3cs7WvQ"
      },
      "source": [
        "#SVM - optimal parameters\n",
        "svm_grid = GridSearchCV(svm,svm_param,refit = True, verbose = 3)\n",
        "svm_grid.fit(x_train2,y_train2)\n",
        "svm_grid.best_estimator_"
      ],
      "execution_count": null,
      "outputs": []
    },
    {
      "cell_type": "code",
      "metadata": {
        "id": "rPm6Z8Pl6jZa"
      },
      "source": [
        "#KNN - hyperparameter options\n",
        "knn_param = {\n",
        "  'n_neighbors': list(range(1,5)),\n",
        "  'leaf_size': list(range(1,5)),\n",
        "  'p': [1,2]\n",
        "}"
      ],
      "execution_count": null,
      "outputs": []
    },
    {
      "cell_type": "code",
      "metadata": {
        "id": "VZ-QbjX37bwW",
        "colab": {
          "base_uri": "https://localhost:8080/"
        },
        "outputId": "04dd3c6b-f15c-412d-c66e-6ef96f954e98"
      },
      "source": [
        "#KNN - optimal parameters\n",
        "knn_grid = GridSearchCV(knn,knn_param)\n",
        "knn_grid.fit(x_train2,y_train2)\n",
        "knn_grid.best_estimator_"
      ],
      "execution_count": null,
      "outputs": [
        {
          "output_type": "execute_result",
          "data": {
            "text/plain": [
              "KNeighborsClassifier(algorithm='auto', leaf_size=1, metric='minkowski',\n",
              "                     metric_params=None, n_jobs=None, n_neighbors=4, p=2,\n",
              "                     weights='uniform')"
            ]
          },
          "metadata": {},
          "execution_count": 40
        }
      ]
    },
    {
      "cell_type": "code",
      "metadata": {
        "id": "IWLPfF7c9gU4",
        "colab": {
          "base_uri": "https://localhost:8080/"
        },
        "outputId": "6e4bef57-38a0-4db2-f854-8586fe44bc3d"
      },
      "source": [
        "#OPTIMIZED - logistic regression\n",
        "from sklearn.linear_model import LogisticRegression\n",
        "lr2 = LogisticRegression(C=10, solver='liblinear', penalty='l2')\n",
        "#Fitting training set to the model\n",
        "lr2.fit(x_train2,y_train2)\n",
        "#Metrics report\n",
        "evaluate1(lr2, x_train2, x_val, y_train2, y_val)"
      ],
      "execution_count": null,
      "outputs": [
        {
          "output_type": "stream",
          "name": "stdout",
          "text": [
            "TRAINING RESULTS: \n",
            "===============================\n",
            "CONFUSION MATRIX:\n",
            "[[6979   42]\n",
            " [  30 6529]]\n",
            "ACCURACY SCORE:\n",
            "0.9947\n",
            "CLASSIFICATION REPORT:\n",
            "                     0            1  accuracy     macro avg  weighted avg\n",
            "precision     0.995720     0.993608  0.994698      0.994664      0.994700\n",
            "recall        0.994018     0.995426  0.994698      0.994722      0.994698\n",
            "f1-score      0.994868     0.994516  0.994698      0.994692      0.994698\n",
            "support    7021.000000  6559.000000  0.994698  13580.000000  13580.000000\n",
            "VALIDATION SET RESULTS: \n",
            "===============================\n",
            "CONFUSION MATRIX:\n",
            "[[2822  178]\n",
            " [ 154 2666]]\n",
            "ACCURACY SCORE:\n",
            "0.9430\n",
            "CLASSIFICATION REPORT:\n",
            "                     0            1  accuracy    macro avg  weighted avg\n",
            "precision     0.948253     0.937412  0.942955     0.942832      0.943000\n",
            "recall        0.940667     0.945390  0.942955     0.943028      0.942955\n",
            "f1-score      0.944444     0.941384  0.942955     0.942914      0.942962\n",
            "support    3000.000000  2820.000000  0.942955  5820.000000   5820.000000\n"
          ]
        }
      ]
    },
    {
      "cell_type": "code",
      "metadata": {
        "id": "F0RruFvJBund",
        "colab": {
          "base_uri": "https://localhost:8080/"
        },
        "outputId": "56f4e6ea-9202-4928-9c8b-ed701b95866d"
      },
      "source": [
        "#OPTIMIZED - SVM\n",
        "from sklearn.svm import SVC\n",
        "svm2 = SVC(C=100, gamma=1, kernel='rbf')\n",
        "#Fitting training set to the model\n",
        "svm2.fit(x_train2,y_train2)\n",
        "#Metrics report\n",
        "evaluate1(svm2, x_train2, x_val, y_train2, y_val)"
      ],
      "execution_count": null,
      "outputs": [
        {
          "output_type": "stream",
          "name": "stdout",
          "text": [
            "TRAINING RESULTS: \n",
            "===============================\n",
            "CONFUSION MATRIX:\n",
            "[[7010   11]\n",
            " [   1 6558]]\n",
            "ACCURACY SCORE:\n",
            "0.9991\n",
            "CLASSIFICATION REPORT:\n",
            "                     0            1  accuracy     macro avg  weighted avg\n",
            "precision     0.999857     0.998325  0.999116      0.999091      0.999117\n",
            "recall        0.998433     0.999848  0.999116      0.999140      0.999116\n",
            "f1-score      0.999145     0.999086  0.999116      0.999115      0.999116\n",
            "support    7021.000000  6559.000000  0.999116  13580.000000  13580.000000\n",
            "VALIDATION SET RESULTS: \n",
            "===============================\n",
            "CONFUSION MATRIX:\n",
            "[[2837  163]\n",
            " [ 138 2682]]\n",
            "ACCURACY SCORE:\n",
            "0.9483\n",
            "CLASSIFICATION REPORT:\n",
            "                     0            1  accuracy    macro avg  weighted avg\n",
            "precision     0.953613     0.942707  0.948282     0.948160      0.948329\n",
            "recall        0.945667     0.951064  0.948282     0.948365      0.948282\n",
            "f1-score      0.949623     0.946867  0.948282     0.948245      0.948288\n",
            "support    3000.000000  2820.000000  0.948282  5820.000000   5820.000000\n"
          ]
        }
      ]
    },
    {
      "cell_type": "code",
      "metadata": {
        "id": "Nmz22TrfBup5",
        "colab": {
          "base_uri": "https://localhost:8080/"
        },
        "outputId": "0ad73c04-d1bb-43e2-85df-3d19e29f618b"
      },
      "source": [
        "#OPTIMIZED - KNN\n",
        "from sklearn.neighbors import KNeighborsClassifier\n",
        "knn2 = KNeighborsClassifier(leaf_size=1, n_neighbors=11, p=2)\n",
        "#Fitting training set to the model\n",
        "knn2.fit(x_train2,y_train2)\n",
        "#Metrics report\n",
        "evaluate1(knn2, x_train2, x_val, y_train2, y_val)"
      ],
      "execution_count": null,
      "outputs": [
        {
          "output_type": "stream",
          "name": "stdout",
          "text": [
            "TRAINING RESULTS: \n",
            "===============================\n",
            "CONFUSION MATRIX:\n",
            "[[1479 5542]\n",
            " [  46 6513]]\n",
            "ACCURACY SCORE:\n",
            "0.5885\n",
            "CLASSIFICATION REPORT:\n",
            "                     0            1  accuracy     macro avg  weighted avg\n",
            "precision     0.969836     0.540274  0.588513      0.755055      0.762362\n",
            "recall        0.210654     0.992987  0.588513      0.601820      0.588513\n",
            "f1-score      0.346127     0.699796  0.588513      0.522961      0.516945\n",
            "support    7021.000000  6559.000000  0.588513  13580.000000  13580.000000\n",
            "VALIDATION SET RESULTS: \n",
            "===============================\n",
            "CONFUSION MATRIX:\n",
            "[[ 590 2410]\n",
            " [  22 2798]]\n",
            "ACCURACY SCORE:\n",
            "0.5821\n",
            "CLASSIFICATION REPORT:\n",
            "                     0            1  accuracy    macro avg  weighted avg\n",
            "precision     0.964052     0.537250  0.582131     0.750651      0.757251\n",
            "recall        0.196667     0.992199  0.582131     0.594433      0.582131\n",
            "f1-score      0.326689     0.697060  0.582131     0.511875      0.506147\n",
            "support    3000.000000  2820.000000  0.582131  5820.000000   5820.000000\n"
          ]
        }
      ]
    },
    {
      "cell_type": "code",
      "metadata": {
        "colab": {
          "base_uri": "https://localhost:8080/"
        },
        "id": "U2xGnjyxOwFR",
        "outputId": "a01e5b17-d789-47fe-ca79-75fb665fce78"
      },
      "source": [
        "#OPTIMIZED - Voting ensemble\n",
        "from sklearn.ensemble import VotingClassifier\n",
        "\n",
        "estimators1 = []\n",
        "estimators1.append(('Logistic', lr2))\n",
        "\n",
        "estimators1.append(('SVM', svm2))\n",
        "\n",
        "estimators1.append(('KNN', knn2))\n",
        "\n",
        "voting2 = VotingClassifier(estimators=estimators1)\n",
        "voting2.fit(x_train2, y_train2)\n",
        "\n",
        "evaluate1(voting2, x_train2, x_val, y_train2, y_val)"
      ],
      "execution_count": null,
      "outputs": [
        {
          "output_type": "stream",
          "name": "stdout",
          "text": [
            "TRAINING RESULTS: \n",
            "===============================\n",
            "CONFUSION MATRIX:\n",
            "[[6980   41]\n",
            " [   8 6551]]\n",
            "ACCURACY SCORE:\n",
            "0.9964\n",
            "CLASSIFICATION REPORT:\n",
            "                     0            1  accuracy     macro avg  weighted avg\n",
            "precision     0.998855     0.993780  0.996392      0.996318      0.996404\n",
            "recall        0.994160     0.998780  0.996392      0.996470      0.996392\n",
            "f1-score      0.996502     0.996274  0.996392      0.996388      0.996392\n",
            "support    7021.000000  6559.000000  0.996392  13580.000000  13580.000000\n",
            "VALIDATION SET RESULTS: \n",
            "===============================\n",
            "CONFUSION MATRIX:\n",
            "[[2810  190]\n",
            " [ 122 2698]]\n",
            "ACCURACY SCORE:\n",
            "0.9464\n",
            "CLASSIFICATION REPORT:\n",
            "                     0            1  accuracy    macro avg  weighted avg\n",
            "precision     0.958390     0.934211  0.946392     0.946300      0.946674\n",
            "recall        0.936667     0.956738  0.946392     0.946702      0.946392\n",
            "f1-score      0.947404     0.945340  0.946392     0.946372      0.946404\n",
            "support    3000.000000  2820.000000  0.946392  5820.000000   5820.000000\n"
          ]
        }
      ]
    },
    {
      "cell_type": "code",
      "metadata": {
        "id": "niViEKhEO0Ke"
      },
      "source": [
        "#FINAL TEST - create metrics table\n",
        "\n",
        "def evaluate_final(model, x_train, x_test, y_train, y_test):\n",
        "    y_test_pred = model.predict(x_test)\n",
        "\n",
        "    print(\"TESTING RESULTS: \\n===============================\")\n",
        "    clf_report = pd.DataFrame(classification_report(y_test, y_test_pred, output_dict=True))\n",
        "    print(f\"CONFUSION MATRIX:\\n{confusion_matrix(y_test, y_test_pred)}\")\n",
        "    print(f\"ACCURACY SCORE:\\n{accuracy_score(y_test, y_test_pred):.4f}\")\n",
        "    print(f\"CLASSIFICATION REPORT:\\n{clf_report}\")"
      ],
      "execution_count": null,
      "outputs": []
    },
    {
      "cell_type": "code",
      "metadata": {
        "colab": {
          "base_uri": "https://localhost:8080/"
        },
        "id": "L_mi8SpiO348",
        "outputId": "2e9259bb-6708-43b0-ba57-5415602bddf0"
      },
      "source": [
        "#FINAL TEST - LR\n",
        "\n",
        "lr_final = LogisticRegression(C=10, solver='liblinear', penalty='l2')\n",
        "#Fitting training set to the model\n",
        "lr_final.fit(x_train,y_train)\n",
        "#Metrics report\n",
        "evaluate_final(lr_final, x_train, x_test, y_train, y_test)"
      ],
      "execution_count": null,
      "outputs": [
        {
          "output_type": "stream",
          "name": "stdout",
          "text": [
            "TESTING RESULTS: \n",
            "===============================\n",
            "CONFUSION MATRIX:\n",
            "[[2338  165]\n",
            " [ 134 2214]]\n",
            "ACCURACY SCORE:\n",
            "0.9384\n",
            "CLASSIFICATION REPORT:\n",
            "                     0            1  accuracy    macro avg  weighted avg\n",
            "precision     0.945793     0.930643  0.938363     0.938218      0.938460\n",
            "recall        0.934079     0.942930  0.938363     0.938505      0.938363\n",
            "f1-score      0.939899     0.936746  0.938363     0.938323      0.938373\n",
            "support    2503.000000  2348.000000  0.938363  4851.000000   4851.000000\n"
          ]
        }
      ]
    },
    {
      "cell_type": "code",
      "metadata": {
        "colab": {
          "base_uri": "https://localhost:8080/"
        },
        "id": "2y6wQPEYO9Ft",
        "outputId": "65564ee4-9940-4a08-cefb-37f6736ac190"
      },
      "source": [
        "#FINAL TEST - SVM\n",
        "\n",
        "svm_final = SVC(C=100, gamma=1, kernel='rbf', probability=True)\n",
        "#Fitting training set to the model\n",
        "svm_final.fit(x_train,y_train)\n",
        "#Metrics report\n",
        "evaluate_final(svm_final, x_train, x_test, y_train, y_test)"
      ],
      "execution_count": null,
      "outputs": [
        {
          "output_type": "stream",
          "name": "stdout",
          "text": [
            "TESTING RESULTS: \n",
            "===============================\n",
            "CONFUSION MATRIX:\n",
            "[[2347  156]\n",
            " [ 121 2227]]\n",
            "ACCURACY SCORE:\n",
            "0.9429\n",
            "CLASSIFICATION REPORT:\n",
            "                     0            1  accuracy    macro avg  weighted avg\n",
            "precision     0.950972     0.934536  0.942898     0.942754      0.943017\n",
            "recall        0.937675     0.948467  0.942898     0.943071      0.942898\n",
            "f1-score      0.944277     0.941450  0.942898     0.942863      0.942909\n",
            "support    2503.000000  2348.000000  0.942898  4851.000000   4851.000000\n"
          ]
        }
      ]
    },
    {
      "cell_type": "code",
      "metadata": {
        "colab": {
          "base_uri": "https://localhost:8080/"
        },
        "id": "RQR0eyUIO-Mr",
        "outputId": "b535d76a-2298-469e-beb5-4e82c1f914d6"
      },
      "source": [
        "#FINAL TEST - KNN\n",
        "\n",
        "knn_final = KNeighborsClassifier(leaf_size=1, n_neighbors=4, p=2)\n",
        "#Fitting training set to the model\n",
        "knn_final.fit(x_train,y_train)\n",
        "#Metrics report\n",
        "evaluate_final(knn_final, x_train, x_test, y_train, y_test)"
      ],
      "execution_count": null,
      "outputs": [
        {
          "output_type": "stream",
          "name": "stdout",
          "text": [
            "TESTING RESULTS: \n",
            "===============================\n",
            "CONFUSION MATRIX:\n",
            "[[ 906 1597]\n",
            " [ 116 2232]]\n",
            "ACCURACY SCORE:\n",
            "0.6469\n",
            "CLASSIFICATION REPORT:\n",
            "                     0            1  accuracy    macro avg  weighted avg\n",
            "precision     0.886497     0.582920  0.646877     0.734708      0.739558\n",
            "recall        0.361966     0.950596  0.646877     0.656281      0.646877\n",
            "f1-score      0.514043     0.722681  0.646877     0.618362      0.615029\n",
            "support    2503.000000  2348.000000  0.646877  4851.000000   4851.000000\n"
          ]
        }
      ]
    },
    {
      "cell_type": "code",
      "metadata": {
        "colab": {
          "base_uri": "https://localhost:8080/"
        },
        "id": "IvoTc1KJPAcU",
        "outputId": "54dd12db-84f1-4586-bd1f-146106ad7e32"
      },
      "source": [
        "#FINAL TEST - Voting\n",
        "\n",
        "estimators2 = []\n",
        "estimators2.append(('Logistic', lr_final))\n",
        "\n",
        "estimators2.append(('SVM', svm_final))\n",
        "\n",
        "estimators2.append(('KNN', knn_final))\n",
        "\n",
        "voting_final = VotingClassifier(estimators=estimators)\n",
        "voting_final.fit(x_train, y_train)\n",
        "\n",
        "evaluate_final(voting_final, x_train, x_test, y_train, y_test)"
      ],
      "execution_count": null,
      "outputs": [
        {
          "output_type": "stream",
          "name": "stdout",
          "text": [
            "TESTING RESULTS: \n",
            "===============================\n",
            "CONFUSION MATRIX:\n",
            "[[2305  198]\n",
            " [ 114 2234]]\n",
            "ACCURACY SCORE:\n",
            "0.9357\n",
            "CLASSIFICATION REPORT:\n",
            "                     0            1  accuracy    macro avg  weighted avg\n",
            "precision     0.952873     0.918586  0.935683     0.935729      0.936277\n",
            "recall        0.920895     0.951448  0.935683     0.936171      0.935683\n",
            "f1-score      0.936611     0.934728  0.935683     0.935670      0.935700\n",
            "support    2503.000000  2348.000000  0.935683  4851.000000   4851.000000\n"
          ]
        }
      ]
    },
    {
      "cell_type": "code",
      "metadata": {
        "colab": {
          "base_uri": "https://localhost:8080/"
        },
        "id": "nKmINqjiPDHO",
        "outputId": "67650c67-ff20-47c5-cb2b-05c6a21b780d"
      },
      "source": [
        "#FINAL AUC-ROC curve setup - Soft voting\n",
        "voting3 = VotingClassifier(estimators=estimators2, voting='soft')\n",
        "voting3.fit(x_train, y_train)"
      ],
      "execution_count": null,
      "outputs": [
        {
          "output_type": "execute_result",
          "data": {
            "text/plain": [
              "VotingClassifier(estimators=[('Logistic',\n",
              "                              LogisticRegression(C=10, class_weight=None,\n",
              "                                                 dual=False, fit_intercept=True,\n",
              "                                                 intercept_scaling=1,\n",
              "                                                 l1_ratio=None, max_iter=100,\n",
              "                                                 multi_class='auto',\n",
              "                                                 n_jobs=None, penalty='l2',\n",
              "                                                 random_state=None,\n",
              "                                                 solver='liblinear', tol=0.0001,\n",
              "                                                 verbose=0, warm_start=False)),\n",
              "                             ('SVM',\n",
              "                              SVC(C=100, break_ties=False, cache_size=200,\n",
              "                                  class_weight=None, co...\n",
              "                                  decision_function_shape='ovr', degree=3,\n",
              "                                  gamma=1, kernel='rbf', max_iter=-1,\n",
              "                                  probability=True, random_state=None,\n",
              "                                  shrinking=True, tol=0.001, verbose=False)),\n",
              "                             ('KNN',\n",
              "                              KNeighborsClassifier(algorithm='auto',\n",
              "                                                   leaf_size=1,\n",
              "                                                   metric='minkowski',\n",
              "                                                   metric_params=None,\n",
              "                                                   n_jobs=None, n_neighbors=4,\n",
              "                                                   p=2, weights='uniform'))],\n",
              "                 flatten_transform=True, n_jobs=None, voting='soft',\n",
              "                 weights=None)"
            ]
          },
          "metadata": {},
          "execution_count": 104
        }
      ]
    },
    {
      "cell_type": "code",
      "metadata": {
        "id": "4bEMLFvjPJzu"
      },
      "source": [
        "#FINAL AUC-ROC curve setup - Create probability prediction \n",
        "y_pred_logistic1 = lr_final.decision_function(x_test)\n",
        "y_pred_svm1 = svm_final.decision_function(x_test)\n",
        "y_pred_knn1 = knn_final.predict_proba(x_test)\n",
        "y_pred_vote1 = voting3.predict_proba(x_test)"
      ],
      "execution_count": null,
      "outputs": []
    },
    {
      "cell_type": "code",
      "metadata": {
        "colab": {
          "base_uri": "https://localhost:8080/",
          "height": 457
        },
        "id": "3s9v_vApPKpS",
        "outputId": "3fe34e16-3a23-448d-f822-f26d01269687"
      },
      "source": [
        "#FINAL AUC-ROC curves\n",
        "import matplotlib.pyplot as plt\n",
        "from sklearn.metrics import roc_curve, auc\n",
        "#LR - create curve\n",
        "logistic_fpr, logistic_tpr, threshold = roc_curve(y_test, y_pred_logistic1)\n",
        "auc_logistic_final = auc(logistic_fpr, logistic_tpr)\n",
        "#SVM - create curve\n",
        "svm_fpr, svm_tpr, threshold = roc_curve(y_test, y_pred_svm1)\n",
        "auc_svm_final = auc(svm_fpr, svm_tpr)\n",
        "#KNN - create curve\n",
        "knn_fpr, knn_tpr, threshold = roc_curve(y_test, y_pred_knn1[:,1])\n",
        "auc_knn_final = auc(knn_fpr, knn_tpr)\n",
        "#Vote - create curve\n",
        "vote_fpr, vote_tpr, threshold = roc_curve(y_test, y_pred_vote1[:,1])\n",
        "auc_vote_final = auc(vote_fpr, vote_tpr)\n",
        "\n",
        "#Plot curves\n",
        "plt.figure(figsize=(5, 5), dpi=100)\n",
        "plt.plot(logistic_fpr, logistic_tpr, linestyle='-', label='Logistic (auc = %0.3f)' % auc_logistic_final)\n",
        "plt.plot(svm_fpr, svm_tpr, linestyle='-', label='SVM (auc = %0.3f)' % auc_svm_final)\n",
        "plt.plot(knn_fpr, knn_tpr, linestyle='-', label='KNN (auc = %0.3f)' % auc_knn_final)\n",
        "plt.plot(vote_fpr, vote_tpr, linestyle='-', label='Voting Ensemble (auc = %0.3f)' % auc_vote_final)\n",
        "\n",
        "#Create axes \n",
        "plt.xlabel('False Positive Rate -->')\n",
        "plt.ylabel('True Positive Rate -->')\n",
        "\n",
        "#Show legend\n",
        "plt.legend()\n",
        "\n",
        "plt.show()"
      ],
      "execution_count": null,
      "outputs": [
        {
          "output_type": "display_data",
          "data": {
            "image/png": "[encoded data removed]",
            "text/plain": [
              "<Figure size 500x500 with 1 Axes>"
            ]
          },
          "metadata": {
            "needs_background": "light"
          }
        }
      ]
    },
    {
      "cell_type": "code",
      "metadata": {
        "id": "pgp3RMv_PF4d"
      },
      "source": [
        "#Feature weights - logisitic regression \n",
        "zipped = list(zip(tfidf_vectorizer.get_feature_names(), lr.coef_[0]))\n",
        "zipped"
      ],
      "execution_count": null,
      "outputs": []
    },
    {
      "cell_type": "code",
      "metadata": {
        "id": "jKz9vtfAVShD"
      },
      "source": [
        "df_fw = pd.DataFrame(zipped, columns = ['Feature', 'Weight'])\n",
        "df_fw_fake = df_fw.sort_values(by='Weight', ascending=False)[:10]\n",
        "df_fw_fact = df_fw.sort_values(by='Weight', ascending=True)[:10]"
      ],
      "execution_count": null,
      "outputs": []
    },
    {
      "cell_type": "code",
      "metadata": {
        "colab": {
          "base_uri": "https://localhost:8080/",
          "height": 359
        },
        "id": "zSXlfuTachpj",
        "outputId": "287ea331-9054-4194-9afe-8a76d7f385d2"
      },
      "source": [
        "df_fw_fake"
      ],
      "execution_count": null,
      "outputs": [
        {
          "output_type": "execute_result",
          "data": {
            "text/html": [
              "<div>\n",
              "<style scoped>\n",
              "    .dataframe tbody tr th:only-of-type {\n",
              "        vertical-align: middle;\n",
              "    }\n",
              "\n",
              "    .dataframe tbody tr th {\n",
              "        vertical-align: top;\n",
              "    }\n",
              "\n",
              "    .dataframe thead th {\n",
              "        text-align: right;\n",
              "    }\n",
              "</style>\n",
              "<table border=\"1\" class=\"dataframe\">\n",
              "  <thead>\n",
              "    <tr style=\"text-align: right;\">\n",
              "      <th></th>\n",
              "      <th>Feature</th>\n",
              "      <th>Weight</th>\n",
              "    </tr>\n",
              "  </thead>\n",
              "  <tbody>\n",
              "    <tr>\n",
              "      <th>3411</th>\n",
              "      <td>hillari clinton</td>\n",
              "      <td>5.191115</td>\n",
              "    </tr>\n",
              "    <tr>\n",
              "      <th>9930</th>\n",
              "      <td>year old</td>\n",
              "      <td>4.736061</td>\n",
              "    </tr>\n",
              "    <tr>\n",
              "      <th>2628</th>\n",
              "      <td>file photo</td>\n",
              "      <td>3.749208</td>\n",
              "    </tr>\n",
              "    <tr>\n",
              "      <th>9025</th>\n",
              "      <td>twitter com</td>\n",
              "      <td>3.702127</td>\n",
              "    </tr>\n",
              "    <tr>\n",
              "      <th>6353</th>\n",
              "      <td>presid elect</td>\n",
              "      <td>3.538444</td>\n",
              "    </tr>\n",
              "    <tr>\n",
              "      <th>1571</th>\n",
              "      <td>continu read</td>\n",
              "      <td>3.243550</td>\n",
              "    </tr>\n",
              "    <tr>\n",
              "      <th>5525</th>\n",
              "      <td>octob reuter</td>\n",
              "      <td>3.152838</td>\n",
              "    </tr>\n",
              "    <tr>\n",
              "      <th>4427</th>\n",
              "      <td>main stori</td>\n",
              "      <td>3.004847</td>\n",
              "    </tr>\n",
              "    <tr>\n",
              "      <th>6631</th>\n",
              "      <td>read main</td>\n",
              "      <td>2.996943</td>\n",
              "    </tr>\n",
              "    <tr>\n",
              "      <th>6331</th>\n",
              "      <td>pravda ru</td>\n",
              "      <td>2.547623</td>\n",
              "    </tr>\n",
              "  </tbody>\n",
              "</table>\n",
              "</div>"
            ],
            "text/plain": [
              "              Feature    Weight\n",
              "3411  hillari clinton  5.191115\n",
              "9930         year old  4.736061\n",
              "2628       file photo  3.749208\n",
              "9025      twitter com  3.702127\n",
              "6353     presid elect  3.538444\n",
              "1571     continu read  3.243550\n",
              "5525     octob reuter  3.152838\n",
              "4427       main stori  3.004847\n",
              "6631        read main  2.996943\n",
              "6331        pravda ru  2.547623"
            ]
          },
          "metadata": {},
          "execution_count": 59
        }
      ]
    },
    {
      "cell_type": "code",
      "metadata": {
        "colab": {
          "base_uri": "https://localhost:8080/",
          "height": 359
        },
        "id": "akehASeGdeMC",
        "outputId": "d3ccb26c-4285-4bad-cf60-a5a68af08a87"
      },
      "source": [
        "df_fw_fact"
      ],
      "execution_count": null,
      "outputs": [
        {
          "output_type": "execute_result",
          "data": {
            "text/html": [
              "<div>\n",
              "<style scoped>\n",
              "    .dataframe tbody tr th:only-of-type {\n",
              "        vertical-align: middle;\n",
              "    }\n",
              "\n",
              "    .dataframe tbody tr th {\n",
              "        vertical-align: top;\n",
              "    }\n",
              "\n",
              "    .dataframe thead th {\n",
              "        text-align: right;\n",
              "    }\n",
              "</style>\n",
              "<table border=\"1\" class=\"dataframe\">\n",
              "  <thead>\n",
              "    <tr style=\"text-align: right;\">\n",
              "      <th></th>\n",
              "      <th>Feature</th>\n",
              "      <th>Weight</th>\n",
              "    </tr>\n",
              "  </thead>\n",
              "  <tbody>\n",
              "    <tr>\n",
              "      <th>9978</th>\n",
              "      <td>york time</td>\n",
              "      <td>-12.307878</td>\n",
              "    </tr>\n",
              "    <tr>\n",
              "      <th>5339</th>\n",
              "      <td>new york</td>\n",
              "      <td>-7.222538</td>\n",
              "    </tr>\n",
              "    <tr>\n",
              "      <th>7845</th>\n",
              "      <td>sourc http</td>\n",
              "      <td>-6.642344</td>\n",
              "    </tr>\n",
              "    <tr>\n",
              "      <th>899</th>\n",
              "      <td>breitbart news</td>\n",
              "      <td>-6.023849</td>\n",
              "    </tr>\n",
              "    <tr>\n",
              "      <th>6352</th>\n",
              "      <td>presid donald</td>\n",
              "      <td>-5.763279</td>\n",
              "    </tr>\n",
              "    <tr>\n",
              "      <th>5037</th>\n",
              "      <td>mr trump</td>\n",
              "      <td>-4.779451</td>\n",
              "    </tr>\n",
              "    <tr>\n",
              "      <th>7212</th>\n",
              "      <td>said mr</td>\n",
              "      <td>-4.680991</td>\n",
              "    </tr>\n",
              "    <tr>\n",
              "      <th>6385</th>\n",
              "      <td>presid trump</td>\n",
              "      <td>-4.267671</td>\n",
              "    </tr>\n",
              "    <tr>\n",
              "      <th>904</th>\n",
              "      <td>breitbart texa</td>\n",
              "      <td>-3.764628</td>\n",
              "    </tr>\n",
              "    <tr>\n",
              "      <th>2748</th>\n",
              "      <td>follow twitter</td>\n",
              "      <td>-3.653783</td>\n",
              "    </tr>\n",
              "  </tbody>\n",
              "</table>\n",
              "</div>"
            ],
            "text/plain": [
              "             Feature     Weight\n",
              "9978       york time -12.307878\n",
              "5339        new york  -7.222538\n",
              "7845      sourc http  -6.642344\n",
              "899   breitbart news  -6.023849\n",
              "6352   presid donald  -5.763279\n",
              "5037        mr trump  -4.779451\n",
              "7212         said mr  -4.680991\n",
              "6385    presid trump  -4.267671\n",
              "904   breitbart texa  -3.764628\n",
              "2748  follow twitter  -3.653783"
            ]
          },
          "metadata": {},
          "execution_count": 60
        }
      ]
    },
    {
      "cell_type": "code",
      "metadata": {
        "id": "IGSDp7Byf2vw"
      },
      "source": [
        "import seaborn as sns\n",
        "import matplotlib.pyplot as plt"
      ],
      "execution_count": null,
      "outputs": []
    },
    {
      "cell_type": "code",
      "metadata": {
        "colab": {
          "base_uri": "https://localhost:8080/",
          "height": 405
        },
        "id": "uM_hgH0KeGnM",
        "outputId": "06e3da63-c29e-47c1-bad7-3bff3b7324a0"
      },
      "source": [
        "f, ax = plt.subplots(figsize=(12, 6))\n",
        "sns.set_color_codes(\"pastel\")\n",
        "sns.barplot(x=\"Weight\", y=\"Feature\", data=df_fw_fake, color='r')"
      ],
      "execution_count": null,
      "outputs": [
        {
          "output_type": "execute_result",
          "data": {
            "text/plain": [
              "<matplotlib.axes._subplots.AxesSubplot at 0x7ff960ff0d10>"
            ]
          },
          "metadata": {},
          "execution_count": 112
        },
        {
          "output_type": "display_data",
          "data": {
            "image/png": "[encoded data removed]",
            "text/plain": [
              "<Figure size 864x432 with 1 Axes>"
            ]
          },
          "metadata": {
            "needs_background": "light"
          }
        }
      ]
    },
    {
      "cell_type": "code",
      "metadata": {
        "colab": {
          "base_uri": "https://localhost:8080/",
          "height": 405
        },
        "id": "hjhJsEkMOI-h",
        "outputId": "e47bca43-b28f-44a4-a79d-637646b7a4b6"
      },
      "source": [
        "f, ax = plt.subplots(figsize=(12, 6))\n",
        "sns.barplot(x=\"Weight\", y=\"Feature\", data=df_fw_fact, color='b')"
      ],
      "execution_count": null,
      "outputs": [
        {
          "output_type": "execute_result",
          "data": {
            "text/plain": [
              "<matplotlib.axes._subplots.AxesSubplot at 0x7ff96c66aa10>"
            ]
          },
          "metadata": {},
          "execution_count": 118
        },
        {
          "output_type": "display_data",
          "data": {
            "image/png": "[encoded data removed]",
            "text/plain": [
              "<Figure size 864x432 with 1 Axes>"
            ]
          },
          "metadata": {
            "needs_background": "light"
          }
        }
      ]
    }
  ]
}